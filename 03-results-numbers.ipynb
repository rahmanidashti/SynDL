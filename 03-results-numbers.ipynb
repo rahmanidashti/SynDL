{
 "cells": [
  {
   "cell_type": "markdown",
   "metadata": {},
   "source": [
    "# Results Number Analysis"
   ]
  },
  {
   "cell_type": "code",
   "execution_count": 1,
   "metadata": {},
   "outputs": [],
   "source": [
    "import pandas as pd"
   ]
  },
  {
   "cell_type": "markdown",
   "metadata": {},
   "source": [
    "## Experiment Config"
   ]
  },
  {
   "cell_type": "code",
   "execution_count": 2,
   "metadata": {},
   "outputs": [],
   "source": [
    "year = \"2019\"\n",
    "dl_year = \"dl\" + year"
   ]
  },
  {
   "cell_type": "code",
   "execution_count": 3,
   "metadata": {},
   "outputs": [],
   "source": [
    "dl_ndcgeval = f'final-results/all.pass.{dl_year}.ndcgeval'\n",
    "dl_treceval = f'final-results/all.pass.{dl_year}.treceval'\n",
    "\n",
    "syndl_ndcgeval = f'final-results/all.pass.{dl_year}.SynDL.full.ndcgeval'\n",
    "syndl_treceval = f'final-results/all.pass.{dl_year}.SynDL.full.treceval'"
   ]
  },
  {
   "cell_type": "code",
   "execution_count": 4,
   "metadata": {},
   "outputs": [],
   "source": [
    "dl_result_ndcgeval = pd.read_csv(dl_ndcgeval, sep='\\t', header=None, names=['run_id', 'metric', 'qid', 'score'])\n",
    "dl_result_treceval = pd.read_csv(dl_treceval, sep='\\t', header=None, names=['run_id', 'metric', 'qid', 'score'])\n",
    "\n",
    "syndl_result_ndcgeval = pd.read_csv(syndl_ndcgeval, sep='\\t', header=None, names=['run_id', 'metric', 'qid', 'score'])\n",
    "syndl_result_treceval = pd.read_csv(syndl_treceval, sep='\\t', header=None, names=['run_id', 'metric', 'qid', 'score'])"
   ]
  },
  {
   "cell_type": "code",
   "execution_count": 5,
   "metadata": {},
   "outputs": [],
   "source": [
    "def get_cleaned_df(dataframe):\n",
    "    # Filter out rows where 'qid' is 'all' and create a copy\n",
    "    dataframe = dataframe[dataframe['qid'] != 'all'].copy()\n",
    "    # Convert 'qid' to integer\n",
    "    dataframe['qid'] = dataframe['qid'].astype(int)\n",
    "    # Filter the dataframe based on specific metrics and create a copy\n",
    "    dataframe = dataframe[dataframe['metric'].isin(['ndcg_cut_100', 'ndcg_cut_10', 'ndcg_cut_5', 'map'])].copy()\n",
    "    # Convert 'score' to float64\n",
    "    dataframe['score'] = dataframe['score'].astype('float64')\n",
    "    # Group by 'run_id' and 'metric', and calculate the mean and count of 'score'\n",
    "    dataframe = dataframe.groupby(['run_id', 'metric'])['score'].agg(['mean', 'count']).reset_index()\n",
    "    # Drop the 'count' column\n",
    "    dataframe = dataframe.drop('count', axis=1)\n",
    "    # Pivot the table to have 'run_id' as index and 'metric' as columns\n",
    "    dataframe = dataframe.pivot_table(index='run_id', columns='metric', values='mean').reset_index()\n",
    "    return dataframe"
   ]
  },
  {
   "cell_type": "code",
   "execution_count": 6,
   "metadata": {},
   "outputs": [],
   "source": [
    "dl_result_ndcgeval = get_cleaned_df(dl_result_ndcgeval)\n",
    "dl_result_treceval = get_cleaned_df(dl_result_treceval)"
   ]
  },
  {
   "cell_type": "code",
   "execution_count": 7,
   "metadata": {},
   "outputs": [],
   "source": [
    "dl_result = pd.merge(dl_result_ndcgeval, dl_result_treceval, on='run_id', how='inner')"
   ]
  },
  {
   "cell_type": "code",
   "execution_count": 8,
   "metadata": {},
   "outputs": [],
   "source": [
    "syndl_result_ndcgeval = get_cleaned_df(syndl_result_ndcgeval)\n",
    "syndl_result_treceval = get_cleaned_df(syndl_result_treceval)"
   ]
  },
  {
   "cell_type": "code",
   "execution_count": 9,
   "metadata": {},
   "outputs": [],
   "source": [
    "syndl_result = pd.merge(syndl_result_ndcgeval, syndl_result_treceval, on='run_id', how='inner')"
   ]
  },
  {
   "cell_type": "code",
   "execution_count": 10,
   "metadata": {},
   "outputs": [],
   "source": [
    "results = pd.merge(dl_result, syndl_result, on='run_id')"
   ]
  },
  {
   "cell_type": "code",
   "execution_count": 11,
   "metadata": {},
   "outputs": [],
   "source": [
    "results = results.sort_values(by=['ndcg_cut_10_x'], ascending=False)"
   ]
  },
  {
   "cell_type": "code",
   "execution_count": 12,
   "metadata": {},
   "outputs": [
    {
     "name": "stdout",
     "output_type": "stream",
     "text": [
      "idst_bert_p2 & 0.775 & 0.7632 & 0.6828 & 0.5193 && 0.6849 & 0.6771 & 0.6117 & 0.4713 \\\\\n",
      "idst_bert_p3 & 0.7803 & 0.7594 & 0.6862 & 0.5307 && 0.679 & 0.6771 & 0.6152 & 0.4816 \\\\\n",
      "p_exp_rm3_bert & 0.7427 & 0.7422 & 0.6745 & 0.5294 && 0.6674 & 0.6611 & 0.6065 & 0.4759 \\\\\n",
      "p_bert & 0.7334 & 0.738 & 0.6585 & 0.5049 && 0.6637 & 0.656 & 0.6036 & 0.4774 \\\\\n",
      "idst_bert_pr2 & 0.7637 & 0.7379 & 0.6357 & 0.4776 && 0.67 & 0.6595 & 0.5916 & 0.4716 \\\\\n"
     ]
    }
   ],
   "source": [
    "for eachline in results[0:5].itertuples(index=False):\n",
    "    print(f\"{eachline.run_id} & {round(eachline.ndcg_cut_5_x, 4)} & {round(eachline.ndcg_cut_10_x, 4)} & {round(eachline.ndcg_cut_100_x, 4)} & {round(eachline.map_x, 4)} && {round(eachline.ndcg_cut_5_y, 4)} & {round(eachline.ndcg_cut_10_y, 4)} & {round(eachline.ndcg_cut_100_y, 4)} & {round(eachline.map_y, 4)} \\\\\\\\\")"
   ]
  },
  {
   "cell_type": "code",
   "execution_count": null,
   "metadata": {},
   "outputs": [],
   "source": []
  }
 ],
 "metadata": {
  "kernelspec": {
   "display_name": "Python 3",
   "language": "python",
   "name": "python3"
  },
  "language_info": {
   "codemirror_mode": {
    "name": "ipython",
    "version": 3
   },
   "file_extension": ".py",
   "mimetype": "text/x-python",
   "name": "python",
   "nbconvert_exporter": "python",
   "pygments_lexer": "ipython3",
   "version": "3.9.6"
  }
 },
 "nbformat": 4,
 "nbformat_minor": 2
}

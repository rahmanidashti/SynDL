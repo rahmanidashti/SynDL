{
 "cells": [
  {
   "cell_type": "markdown",
   "metadata": {},
   "source": [
    "# Results Number Analysis"
   ]
  },
  {
   "cell_type": "code",
   "execution_count": 1,
   "metadata": {},
   "outputs": [],
   "source": [
    "import pandas as pd"
   ]
  },
  {
   "cell_type": "markdown",
   "metadata": {},
   "source": [
    "## Experiment Config"
   ]
  },
  {
   "cell_type": "code",
   "execution_count": 2,
   "metadata": {},
   "outputs": [],
   "source": [
    "year = \"2023\"\n",
    "dl_year = \"dl\" + year"
   ]
  },
  {
   "cell_type": "code",
   "execution_count": 3,
   "metadata": {},
   "outputs": [],
   "source": [
    "dl_ndcgeval = f'final-results/all.pass.{dl_year}.ndcgeval'\n",
    "dl_treceval = f'final-results/all.pass.{dl_year}.treceval'\n",
    "\n",
    "syndl_ndcgeval = f'final-results/all.pass.{dl_year}.SynDL.full.ndcgeval'\n",
    "syndl_treceval = f'final-results/all.pass.{dl_year}.SynDL.full.treceval'"
   ]
  },
  {
   "cell_type": "code",
   "execution_count": 4,
   "metadata": {},
   "outputs": [],
   "source": [
    "dl_result_ndcgeval = pd.read_csv(dl_ndcgeval, sep='\\t', header=None, names=['run_id', 'metric', 'qid', 'score'])\n",
    "dl_result_treceval = pd.read_csv(dl_treceval, sep='\\t', header=None, names=['run_id', 'metric', 'qid', 'score'])\n",
    "\n",
    "syndl_result_ndcgeval = pd.read_csv(syndl_ndcgeval, sep='\\t', header=None, names=['run_id', 'metric', 'qid', 'score'])\n",
    "syndl_result_treceval = pd.read_csv(syndl_treceval, sep='\\t', header=None, names=['run_id', 'metric', 'qid', 'score'])"
   ]
  },
  {
   "cell_type": "code",
   "execution_count": 5,
   "metadata": {},
   "outputs": [],
   "source": [
    "def get_cleaned_df(dataframe):\n",
    "    # Filter out rows where 'qid' is 'all' and create a copy\n",
    "    dataframe = dataframe[dataframe['qid'] != 'all'].copy()\n",
    "    # Convert 'qid' to integer\n",
    "    dataframe['qid'] = dataframe['qid'].astype(int)\n",
    "    # Filter the dataframe based on specific metrics and create a copy\n",
    "    dataframe = dataframe[dataframe['metric'].isin(['ndcg_cut_100', 'ndcg_cut_10', 'ndcg_cut_5', 'map'])].copy()\n",
    "    # Convert 'score' to float64\n",
    "    dataframe['score'] = dataframe['score'].astype('float64')\n",
    "    # Group by 'run_id' and 'metric', and calculate the mean and count of 'score'\n",
    "    dataframe = dataframe.groupby(['run_id', 'metric'])['score'].agg(['mean', 'count']).reset_index()\n",
    "    # Drop the 'count' column\n",
    "    dataframe = dataframe.drop('count', axis=1)\n",
    "    # Pivot the table to have 'run_id' as index and 'metric' as columns\n",
    "    dataframe = dataframe.pivot_table(index='run_id', columns='metric', values='mean').reset_index()\n",
    "    return dataframe"
   ]
  },
  {
   "cell_type": "code",
   "execution_count": 6,
   "metadata": {},
   "outputs": [],
   "source": [
    "dl_result_ndcgeval = get_cleaned_df(dl_result_ndcgeval)\n",
    "dl_result_treceval = get_cleaned_df(dl_result_treceval)"
   ]
  },
  {
   "cell_type": "code",
   "execution_count": 7,
   "metadata": {},
   "outputs": [],
   "source": [
    "dl_result = pd.merge(dl_result_ndcgeval, dl_result_treceval, on='run_id', how='inner')"
   ]
  },
  {
   "cell_type": "code",
   "execution_count": 8,
   "metadata": {},
   "outputs": [],
   "source": [
    "syndl_result_ndcgeval = get_cleaned_df(syndl_result_ndcgeval)\n",
    "syndl_result_treceval = get_cleaned_df(syndl_result_treceval)"
   ]
  },
  {
   "cell_type": "code",
   "execution_count": 9,
   "metadata": {},
   "outputs": [],
   "source": [
    "syndl_result = pd.merge(syndl_result_ndcgeval, syndl_result_treceval, on='run_id', how='inner')"
   ]
  },
  {
   "cell_type": "code",
   "execution_count": 10,
   "metadata": {},
   "outputs": [],
   "source": [
    "results = pd.merge(dl_result, syndl_result, on='run_id')"
   ]
  },
  {
   "cell_type": "code",
   "execution_count": 11,
   "metadata": {},
   "outputs": [],
   "source": [
    "results = results.sort_values(by=['ndcg_cut_10_x'], ascending=False)"
   ]
  },
  {
   "cell_type": "code",
   "execution_count": 12,
   "metadata": {},
   "outputs": [
    {
     "name": "stdout",
     "output_type": "stream",
     "text": [
      "naverloo-rgpt4 & 0.7193 & 0.6994 & 0.537 & 0.3032 && 0.9111 & 0.906 & 0.7841 & 0.5628 \\\\\n",
      "naverloo-frgpt4 & 0.7166 & 0.6899 & 0.5362 & 0.3023 && 0.9081 & 0.9007 & 0.7841 & 0.5651 \\\\\n",
      "naverloo_fs_RR_duo & 0.6897 & 0.6585 & 0.5291 & 0.2947 && 0.8916 & 0.8849 & 0.7782 & 0.559 \\\\\n",
      "cip_run_2 & 0.6734 & 0.6558 & 0.4927 & 0.2721 && 0.8765 & 0.8671 & 0.7101 & 0.4866 \\\\\n",
      "cip_run_1 & 0.6733 & 0.6558 & 0.4927 & 0.2721 && 0.8765 & 0.8671 & 0.7101 & 0.4867 \\\\\n"
     ]
    }
   ],
   "source": [
    "for eachline in results[0:5].itertuples(index=False):\n",
    "    print(f\"{eachline.run_id} & {round(eachline.ndcg_cut_5_x, 4)} & {round(eachline.ndcg_cut_10_x, 4)} & {round(eachline.ndcg_cut_100_x, 4)} & {round(eachline.map_x, 4)} && {round(eachline.ndcg_cut_5_y, 4)} & {round(eachline.ndcg_cut_10_y, 4)} & {round(eachline.ndcg_cut_100_y, 4)} & {round(eachline.map_y, 4)} \\\\\\\\\")"
   ]
  },
  {
   "cell_type": "code",
   "execution_count": null,
   "metadata": {},
   "outputs": [],
   "source": []
  }
 ],
 "metadata": {
  "kernelspec": {
   "display_name": "Python 3",
   "language": "python",
   "name": "python3"
  },
  "language_info": {
   "codemirror_mode": {
    "name": "ipython",
    "version": 3
   },
   "file_extension": ".py",
   "mimetype": "text/x-python",
   "name": "python",
   "nbconvert_exporter": "python",
   "pygments_lexer": "ipython3",
   "version": "3.9.6"
  }
 },
 "nbformat": 4,
 "nbformat_minor": 2
}

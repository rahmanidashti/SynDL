{
 "cells": [
  {
   "cell_type": "markdown",
   "metadata": {},
   "source": [
    "# CIKM Resource Results"
   ]
  },
  {
   "cell_type": "code",
   "execution_count": 1,
   "metadata": {},
   "outputs": [],
   "source": [
    "import glob\n",
    "import os\n",
    "from tqdm import tqdm"
   ]
  },
  {
   "cell_type": "markdown",
   "metadata": {},
   "source": [
    "## TREC DL Past Years"
   ]
  },
  {
   "cell_type": "code",
   "execution_count": 28,
   "metadata": {},
   "outputs": [],
   "source": [
    "year = \"2020\"\n",
    "dl_year = \"dl\"+year"
   ]
  },
  {
   "cell_type": "code",
   "execution_count": 31,
   "metadata": {},
   "outputs": [],
   "source": [
    "dir_path = f\"{dl_year}/runs/passages/*\"\n",
    "file_list = glob.glob(dir_path)"
   ]
  },
  {
   "cell_type": "code",
   "execution_count": 30,
   "metadata": {},
   "outputs": [],
   "source": [
    "# if need to remove 'input.'\n",
    "for file in file_list:\n",
    "    os.rename(file,f\"{dir_path.replace('*', '')}/{file.split('/')[3].split('.')[1]}\")"
   ]
  },
  {
   "cell_type": "code",
   "execution_count": null,
   "metadata": {},
   "outputs": [],
   "source": [
    "# TREC DL results\n",
    "for file_path in file_list:\n",
    "    run_id = file_path.split('/')[3]\n",
    "    os.system(f'trec_eval -q {dl_year}/{year}qrels-pass.txt {file_path} > {dl_year}/results/treceval/{run_id}.treceval')\n",
    "    os.system(f'trec_eval -m Rndcg -m ndcg_cut -c -q {dl_year}/{year}qrels-pass.txt {file_path} > {dl_year}/results/ndcgeval/{run_id}.ndcgeval')"
   ]
  },
  {
   "cell_type": "code",
   "execution_count": 32,
   "metadata": {},
   "outputs": [],
   "source": [
    "# TREC FULL GPT-4 Results\n",
    "for file_path in file_list:\n",
    "    run_id = file_path.split('/')[3]\n",
    "    os.system(f'trec_eval -q DL-LLM-qrels/DL-LLM_qrels_pass.txt {file_path} > DL-LLM-results/{dl_year}/treceval/{run_id}.treceval')\n",
    "    os.system(f'trec_eval -m Rndcg -m ndcg_cut -c -q DL-LLM-qrels/DL-LLM_qrels_pass.txt {file_path} > DL-LLM-results/{dl_year}/ndcgeval/{run_id}.ndcgeval')"
   ]
  },
  {
   "cell_type": "markdown",
   "metadata": {},
   "source": [
    "## Merging Results into One file"
   ]
  },
  {
   "cell_type": "code",
   "execution_count": 37,
   "metadata": {},
   "outputs": [
    {
     "name": "stdout",
     "output_type": "stream",
     "text": [
      "all.pass.dl2020.DL-LLM.treceval all.pass.dl2020.treceval\n",
      "DL-LLM-results/dl2020/treceval/*.treceval dl2020/results/treceval/*.treceval\n"
     ]
    }
   ],
   "source": [
    "# Configuration\n",
    "result_file_format = \"treceval\" # \"ndcgeval\" # treceval\n",
    "\n",
    "result_file_full = f\"all.pass.{dl_year}.DL-LLM.{result_file_format}\"\n",
    "result_file_dl = f\"all.pass.{dl_year}.{result_file_format}\"\n",
    "print(result_file_full, result_file_dl)\n",
    "\n",
    "results_path_full = f\"DL-LLM-results/{dl_year}/{result_file_format}/*.{result_file_format}\"\n",
    "results_path_dl = f\"{dl_year}/results/{result_file_format}/*.{result_file_format}\"\n",
    "print(results_path_full, results_path_dl)"
   ]
  },
  {
   "cell_type": "code",
   "execution_count": 38,
   "metadata": {},
   "outputs": [],
   "source": [
    "# Loading files\n",
    "result_all_full = open(result_file_full, 'w')\n",
    "result_files_full = glob.glob(results_path_full)\n",
    "\n",
    "result_all_dl = open(result_file_dl, 'w')\n",
    "result_files_dl = glob.glob(results_path_dl)"
   ]
  },
  {
   "cell_type": "code",
   "execution_count": 39,
   "metadata": {},
   "outputs": [
    {
     "name": "stderr",
     "output_type": "stream",
     "text": [
      " 32%|███▏      | 19/59 [00:00<00:00, 189.79it/s]"
     ]
    },
    {
     "name": "stdout",
     "output_type": "stream",
     "text": [
      "DL-LLM-results/dl2020/treceval/TUW-TK-Sparse.treceval\n",
      "DL-LLM-results/dl2020/treceval/DoRA_Large_1k.treceval\n",
      "DL-LLM-results/dl2020/treceval/pash_f1.treceval\n",
      "DL-LLM-results/dl2020/treceval/CoRT-electra.treceval\n",
      "DL-LLM-results/dl2020/treceval/terrier-BM25.treceval\n",
      "DL-LLM-results/dl2020/treceval/DLH_d_5_t_25.treceval\n",
      "DL-LLM-results/dl2020/treceval/DoRA_Small.treceval\n",
      "DL-LLM-results/dl2020/treceval/RMIT-Bart.treceval\n",
      "DL-LLM-results/dl2020/treceval/p_d2q_bm25_duo.treceval\n",
      "DL-LLM-results/dl2020/treceval/indri-lmds.treceval\n",
      "DL-LLM-results/dl2020/treceval/pinganNLP3.treceval\n",
      "DL-LLM-results/dl2020/treceval/bert_6.treceval\n",
      "DL-LLM-results/dl2020/treceval/pinganNLP2.treceval\n",
      "DL-LLM-results/dl2020/treceval/NLE_pr1.treceval\n",
      "DL-LLM-results/dl2020/treceval/med_1k.treceval\n",
      "DL-LLM-results/dl2020/treceval/bigIR-DCT-T5-F.treceval\n",
      "DL-LLM-results/dl2020/treceval/2.treceval\n",
      "DL-LLM-results/dl2020/treceval/p_d2q_bm25rm3.treceval\n",
      "DL-LLM-results/dl2020/treceval/pash_r1.treceval\n",
      "DL-LLM-results/dl2020/treceval/p_bm25rm3.treceval\n",
      "DL-LLM-results/dl2020/treceval/CoRT-bm25.treceval\n",
      "DL-LLM-results/dl2020/treceval/bigIR-T5-R.treceval\n",
      "DL-LLM-results/dl2020/treceval/bcai_bertl_pass.treceval\n",
      "DL-LLM-results/dl2020/treceval/indri-fdm.treceval\n",
      "DL-LLM-results/dl2020/treceval/p_d2q_bm25.treceval\n",
      "DL-LLM-results/dl2020/treceval/p_d2q_rm3_duo.treceval\n",
      "DL-LLM-results/dl2020/treceval/fr_pass_roberta.treceval\n",
      "DL-LLM-results/dl2020/treceval/p_bm25rm3_duo.treceval\n",
      "DL-LLM-results/dl2020/treceval/pinganNLP1.treceval\n",
      "DL-LLM-results/dl2020/treceval/small_1k.treceval\n",
      "DL-LLM-results/dl2020/treceval/NLE_pr3.treceval\n",
      "DL-LLM-results/dl2020/treceval/NLE_pr2.treceval\n",
      "DL-LLM-results/dl2020/treceval/bigIR-BERT-R.treceval\n",
      "DL-LLM-results/dl2020/treceval/nlm-prfun-bert.treceval\n",
      "DL-LLM-results/dl2020/treceval/DoRA_Large.treceval\n",
      "DL-LLM-results/dl2020/treceval/indri-sdm.treceval\n",
      "DL-LLM-results/dl2020/treceval/pash_f3.treceval\n",
      "DL-LLM-results/dl2020/treceval/pash_f2.treceval\n",
      "DL-LLM-results/dl2020/treceval/p_bm25.treceval\n",
      "DL-LLM-results/dl2020/treceval/bm25_bert_token.treceval\n",
      "DL-LLM-results/dl2020/treceval/bigIR-T5-BERT-F.treceval\n",
      "DL-LLM-results/dl2020/treceval/bl_bcai_mdl1_vt.treceval\n",
      "DL-LLM-results/dl2020/treceval/CoRT-standalone.treceval\n",
      "DL-LLM-results/dl2020/treceval/terrier-DPH.treceval\n"
     ]
    },
    {
     "name": "stderr",
     "output_type": "stream",
     "text": [
      "100%|██████████| 59/59 [00:00<00:00, 225.26it/s]"
     ]
    },
    {
     "name": "stdout",
     "output_type": "stream",
     "text": [
      "DL-LLM-results/dl2020/treceval/rr-pass-roberta.treceval\n",
      "DL-LLM-results/dl2020/treceval/bigIR-T5xp-T5-F.treceval\n",
      "DL-LLM-results/dl2020/treceval/TF_IDF_d_2_t_50.treceval\n",
      "DL-LLM-results/dl2020/treceval/DoRA_Med.treceval\n",
      "DL-LLM-results/dl2020/treceval/bl_bcai_mdl1_vs.treceval\n",
      "DL-LLM-results/dl2020/treceval/relemb_mlm_0_2.treceval\n",
      "DL-LLM-results/dl2020/treceval/1.treceval\n",
      "DL-LLM-results/dl2020/treceval/nlm-ens-bst-2.treceval\n",
      "DL-LLM-results/dl2020/treceval/nlm-ens-bst-3.treceval\n",
      "DL-LLM-results/dl2020/treceval/pash_r2.treceval\n",
      "DL-LLM-results/dl2020/treceval/pash_r3.treceval\n",
      "DL-LLM-results/dl2020/treceval/TUW-TK-2Layer.treceval\n",
      "DL-LLM-results/dl2020/treceval/nlm-bert-rr.treceval\n",
      "DL-LLM-results/dl2020/treceval/bcai_class_pass.treceval\n",
      "DL-LLM-results/dl2020/treceval/terrier-InL2.treceval\n"
     ]
    },
    {
     "name": "stderr",
     "output_type": "stream",
     "text": [
      "\n"
     ]
    }
   ],
   "source": [
    "# Merging files: Full\n",
    "for result_file in tqdm(result_files_full):\n",
    "    print(result_file)\n",
    "    run_id = result_file.split('/')[3]\n",
    "    result_file_data = open(result_file, 'r').readlines()\n",
    "    for eachline in result_file_data:\n",
    "        metric, qid, score = eachline.split('\\t')\n",
    "        metric, score = metric.strip(), score.strip()\n",
    "        result_all_full.write(f\"{run_id}\\t{metric}\\t{qid}\\t{score}\\n\")\n",
    "\n",
    "result_all_full.close()"
   ]
  },
  {
   "cell_type": "code",
   "execution_count": 40,
   "metadata": {},
   "outputs": [
    {
     "name": "stderr",
     "output_type": "stream",
     "text": [
      "100%|██████████| 59/59 [00:00<00:00, 571.44it/s]"
     ]
    },
    {
     "name": "stdout",
     "output_type": "stream",
     "text": [
      "dl2020/results/treceval/TUW-TK-Sparse.treceval\n",
      "dl2020/results/treceval/DoRA_Large_1k.treceval\n",
      "dl2020/results/treceval/pash_f1.treceval\n",
      "dl2020/results/treceval/CoRT-electra.treceval\n",
      "dl2020/results/treceval/terrier-BM25.treceval\n",
      "dl2020/results/treceval/DLH_d_5_t_25.treceval\n",
      "dl2020/results/treceval/DoRA_Small.treceval\n",
      "dl2020/results/treceval/RMIT-Bart.treceval\n",
      "dl2020/results/treceval/p_d2q_bm25_duo.treceval\n",
      "dl2020/results/treceval/indri-lmds.treceval\n",
      "dl2020/results/treceval/pinganNLP3.treceval\n",
      "dl2020/results/treceval/bert_6.treceval\n",
      "dl2020/results/treceval/pinganNLP2.treceval\n",
      "dl2020/results/treceval/NLE_pr1.treceval\n",
      "dl2020/results/treceval/med_1k.treceval\n",
      "dl2020/results/treceval/bigIR-DCT-T5-F.treceval\n",
      "dl2020/results/treceval/2.treceval\n",
      "dl2020/results/treceval/p_d2q_bm25rm3.treceval\n",
      "dl2020/results/treceval/pash_r1.treceval\n",
      "dl2020/results/treceval/p_bm25rm3.treceval\n",
      "dl2020/results/treceval/CoRT-bm25.treceval\n",
      "dl2020/results/treceval/bigIR-T5-R.treceval\n",
      "dl2020/results/treceval/bcai_bertl_pass.treceval\n",
      "dl2020/results/treceval/indri-fdm.treceval\n",
      "dl2020/results/treceval/p_d2q_bm25.treceval\n",
      "dl2020/results/treceval/p_d2q_rm3_duo.treceval\n",
      "dl2020/results/treceval/fr_pass_roberta.treceval\n",
      "dl2020/results/treceval/p_bm25rm3_duo.treceval\n",
      "dl2020/results/treceval/pinganNLP1.treceval\n",
      "dl2020/results/treceval/small_1k.treceval\n",
      "dl2020/results/treceval/NLE_pr3.treceval\n",
      "dl2020/results/treceval/NLE_pr2.treceval\n",
      "dl2020/results/treceval/bigIR-BERT-R.treceval\n",
      "dl2020/results/treceval/nlm-prfun-bert.treceval\n",
      "dl2020/results/treceval/DoRA_Large.treceval\n",
      "dl2020/results/treceval/indri-sdm.treceval\n",
      "dl2020/results/treceval/pash_f3.treceval\n",
      "dl2020/results/treceval/pash_f2.treceval\n",
      "dl2020/results/treceval/p_bm25.treceval\n",
      "dl2020/results/treceval/bm25_bert_token.treceval\n",
      "dl2020/results/treceval/bigIR-T5-BERT-F.treceval\n",
      "dl2020/results/treceval/bl_bcai_mdl1_vt.treceval\n",
      "dl2020/results/treceval/CoRT-standalone.treceval\n",
      "dl2020/results/treceval/terrier-DPH.treceval\n",
      "dl2020/results/treceval/rr-pass-roberta.treceval\n",
      "dl2020/results/treceval/bigIR-T5xp-T5-F.treceval\n",
      "dl2020/results/treceval/TF_IDF_d_2_t_50.treceval\n",
      "dl2020/results/treceval/DoRA_Med.treceval\n",
      "dl2020/results/treceval/bl_bcai_mdl1_vs.treceval\n",
      "dl2020/results/treceval/relemb_mlm_0_2.treceval\n",
      "dl2020/results/treceval/1.treceval\n",
      "dl2020/results/treceval/nlm-ens-bst-2.treceval\n",
      "dl2020/results/treceval/nlm-ens-bst-3.treceval\n",
      "dl2020/results/treceval/pash_r2.treceval\n",
      "dl2020/results/treceval/pash_r3.treceval\n",
      "dl2020/results/treceval/TUW-TK-2Layer.treceval\n",
      "dl2020/results/treceval/nlm-bert-rr.treceval\n",
      "dl2020/results/treceval/bcai_class_pass.treceval\n",
      "dl2020/results/treceval/terrier-InL2.treceval\n"
     ]
    },
    {
     "name": "stderr",
     "output_type": "stream",
     "text": [
      "\n"
     ]
    }
   ],
   "source": [
    "# Merging files\n",
    "for result_file in tqdm(result_files_dl):\n",
    "    print(result_file)\n",
    "    run_id = result_file.split('/')[3]\n",
    "    result_file_data = open(result_file, 'r').readlines()\n",
    "    for eachline in result_file_data:\n",
    "        metric, qid, score = eachline.split('\\t')\n",
    "        metric, score = metric.strip(), score.strip()\n",
    "        result_all_dl.write(f\"{run_id}\\t{metric}\\t{qid}\\t{score}\\n\")\n",
    "\n",
    "result_all_dl.close()"
   ]
  },
  {
   "cell_type": "code",
   "execution_count": null,
   "metadata": {},
   "outputs": [],
   "source": []
  }
 ],
 "metadata": {
  "kernelspec": {
   "display_name": "Python 3",
   "language": "python",
   "name": "python3"
  },
  "language_info": {
   "codemirror_mode": {
    "name": "ipython",
    "version": 3
   },
   "file_extension": ".py",
   "mimetype": "text/x-python",
   "name": "python",
   "nbconvert_exporter": "python",
   "pygments_lexer": "ipython3",
   "version": "3.9.6"
  }
 },
 "nbformat": 4,
 "nbformat_minor": 2
}

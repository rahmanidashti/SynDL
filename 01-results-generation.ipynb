{
 "cells": [
  {
   "cell_type": "markdown",
   "metadata": {},
   "source": [
    "# Results Files Generation"
   ]
  },
  {
   "cell_type": "code",
   "execution_count": 1,
   "metadata": {},
   "outputs": [],
   "source": [
    "import glob\n",
    "import os\n",
    "from tqdm import tqdm"
   ]
  },
  {
   "cell_type": "markdown",
   "metadata": {},
   "source": [
    "## Generating Results based on Qrels"
   ]
  },
  {
   "cell_type": "code",
   "execution_count": 25,
   "metadata": {},
   "outputs": [],
   "source": [
    "for year in ['2019']:\n",
    "    dl_year = \"dl\" + year\n",
    "\n",
    "    dir_path = f\"TREC-DLs-files/TREC-DL-{year}\"\n",
    "    runs_path = dir_path + \"/passages-runs/*\"\n",
    "    file_list = glob.glob(runs_path)\n",
    "\n",
    "    # if need to remove 'input.'\n",
    "    for file in file_list:\n",
    "        try:\n",
    "            os.rename(file, f\"{runs_path.replace('*', '')}/{file.split('/')[3].split('.')[1]}\")\n",
    "        except:\n",
    "            continue\n",
    "    \n",
    "    # to replace the old file paths with the new ones: without 'input'\n",
    "    file_list = glob.glob(runs_path)\n",
    "\n",
    "    # iterate over the files and generate the result files for DL and Resource qrels\n",
    "    for file_path in file_list:\n",
    "        run_id = file_path.split('/')[3]\n",
    "\n",
    "        # TREC DL results\n",
    "        # os.system(f'trec_eval -q {dir_path}/qrels-pass.txt {file_path} > TREC-DLs-results/{dl_year}/treceval/{run_id}.treceval')\n",
    "        # os.system(f'trec_eval -m Rndcg -m ndcg_cut -c -q {dir_path}/qrels-pass.txt {file_path} > TREC-DLs-results/{dl_year}/ndcgeval/{run_id}.ndcgeval')\n",
    "\n",
    "        # TREC FULL Synthetic (GPT-4) Results\n",
    "        # os.system(f'trec_eval -q TestJudge-qrels/TestJudge_qrels_pass.txt {file_path} > TestJudge-results/{dl_year}/treceval/{run_id}.treceval')\n",
    "        # os.system(f'trec_eval -m Rndcg -m ndcg_cut -c -q TestJudge-qrels/TestJudge_qrels_pass.txt {file_path} > TestJudge-results/{dl_year}/ndcgeval/{run_id}.ndcgeval')\n",
    "        \n",
    "        # TREC Partial Synthetic (GPT-4) (+ NIST from DL) Results\n",
    "        os.system(f'trec_eval -q TestJudge-qrels/TestJudge_qrels_pass_withNIST.txt {file_path} > TestJudge-partial-results/{dl_year}/treceval/{run_id}.treceval')\n",
    "        os.system(f'trec_eval -m Rndcg -m ndcg_cut -c -q TestJudge-qrels/TestJudge_qrels_pass_withNIST.txt {file_path} > TestJudge-partial-results/{dl_year}/ndcgeval/{run_id}.ndcgeval')\n"
   ]
  },
  {
   "cell_type": "markdown",
   "metadata": {},
   "source": [
    "## Merging Results into One file"
   ]
  },
  {
   "cell_type": "code",
   "execution_count": 26,
   "metadata": {},
   "outputs": [],
   "source": [
    "def get_file_names(dl_year, result_file_format):\n",
    "    result_file_dl = f\"final-results/all.pass.{dl_year}.{result_file_format}\"\n",
    "    result_file_partial = f\"final-results/all.pass.{dl_year}.TestJudge.partial.{result_file_format}\"\n",
    "    result_file_full = f\"final-results/all.pass.{dl_year}.TestJudge.full.{result_file_format}\"\n",
    "    return result_file_dl, result_file_partial, result_file_full"
   ]
  },
  {
   "cell_type": "code",
   "execution_count": 27,
   "metadata": {},
   "outputs": [],
   "source": [
    "def get_file_paths(dl_year, result_file_format):\n",
    "    results_path_dl = f\"TREC-DLs-results/{dl_year}/{result_file_format}/*.{result_file_format}\"\n",
    "    results_path_partial = f\"TestJudge-partial-results/{dl_year}/{result_file_format}/*.{result_file_format}\"\n",
    "    results_path_full = f\"TestJudge-full-results/{dl_year}/{result_file_format}/*.{result_file_format}\"\n",
    "    return results_path_dl, results_path_partial, results_path_full"
   ]
  },
  {
   "cell_type": "code",
   "execution_count": 28,
   "metadata": {},
   "outputs": [],
   "source": [
    "def write_merge_results(result_path, result_files):\n",
    "    for result_file in tqdm(result_files):\n",
    "        # print(result_file)\n",
    "        run_id = result_file.split('/')[3].split('.')[0]\n",
    "        result_file_data = open(result_file, 'r').readlines()\n",
    "        for eachline in result_file_data:\n",
    "            metric, qid, score = eachline.split('\\t')\n",
    "            metric, score = metric.strip(), score.strip()\n",
    "            result_path.write(f\"{run_id}\\t{metric}\\t{qid}\\t{score}\\n\")\n",
    "\n",
    "    result_path.close()"
   ]
  },
  {
   "cell_type": "code",
   "execution_count": 29,
   "metadata": {},
   "outputs": [
    {
     "name": "stderr",
     "output_type": "stream",
     "text": [
      "100%|██████████| 36/36 [00:00<00:00, 1123.14it/s]\n",
      "100%|██████████| 36/36 [00:00<00:00, 471.05it/s]\n",
      "100%|██████████| 36/36 [00:00<00:00, 389.65it/s]\n",
      "100%|██████████| 36/36 [00:00<00:00, 2311.69it/s]\n",
      "100%|██████████| 36/36 [00:00<00:00, 1053.21it/s]\n",
      "100%|██████████| 36/36 [00:00<00:00, 827.57it/s]\n",
      "100%|██████████| 118/118 [00:00<00:00, 1748.84it/s]\n",
      "100%|██████████| 59/59 [00:00<00:00, 333.31it/s]\n",
      "100%|██████████| 118/118 [00:00<00:00, 740.49it/s]\n",
      "100%|██████████| 118/118 [00:00<00:00, 3987.30it/s]\n",
      "100%|██████████| 59/59 [00:00<00:00, 785.65it/s]\n",
      "100%|██████████| 118/118 [00:00<00:00, 1433.05it/s]\n",
      "100%|██████████| 126/126 [00:00<00:00, 1814.67it/s]\n",
      "100%|██████████| 63/63 [00:00<00:00, 144.47it/s]\n",
      "100%|██████████| 126/126 [00:00<00:00, 392.21it/s]\n",
      "100%|██████████| 126/126 [00:00<00:00, 4266.39it/s]\n",
      "100%|██████████| 63/63 [00:00<00:00, 416.30it/s]\n",
      "100%|██████████| 126/126 [00:00<00:00, 911.17it/s]\n",
      "100%|██████████| 200/200 [00:00<00:00, 1444.60it/s]\n",
      "100%|██████████| 100/100 [00:00<00:00, 170.13it/s]\n",
      "100%|██████████| 200/200 [00:00<00:00, 344.11it/s]\n",
      "100%|██████████| 200/200 [00:00<00:00, 2961.39it/s]\n",
      "100%|██████████| 100/100 [00:00<00:00, 376.46it/s]\n",
      "100%|██████████| 200/200 [00:00<00:00, 891.08it/s]\n",
      "100%|██████████| 35/35 [00:00<00:00, 728.24it/s]\n",
      "100%|██████████| 35/35 [00:00<00:00, 114.07it/s]\n",
      "100%|██████████| 35/35 [00:00<00:00, 135.43it/s]\n",
      "100%|██████████| 35/35 [00:00<00:00, 1363.39it/s]\n",
      "100%|██████████| 35/35 [00:00<00:00, 304.69it/s]\n",
      "100%|██████████| 35/35 [00:00<00:00, 328.45it/s]\n"
     ]
    }
   ],
   "source": [
    "for year in ['2019', '2020', '2021', '2022', '2023']:\n",
    "    for result_type in ['treceval', 'ndcgeval']:\n",
    "        dl_year = \"dl\" + year\n",
    "        result_file_dl, result_file_partial, result_file_full = get_file_names(dl_year, result_type)\n",
    "        results_path_dl, results_path_partial, results_path_full = get_file_paths(dl_year, result_type)\n",
    "\n",
    "        # Creating files for merged results\n",
    "        result_all_dl = open(result_file_dl, 'w')\n",
    "        result_all_partial = open(result_file_partial, 'w')\n",
    "        result_all_full = open(result_file_full, 'w')\n",
    "\n",
    "        # Loading files\n",
    "        result_files_dl = glob.glob(results_path_dl)\n",
    "        result_files_partial = glob.glob(results_path_partial)\n",
    "        result_files_full = glob.glob(results_path_full)\n",
    "\n",
    "        # merge and write dl result\n",
    "        write_merge_results(result_all_dl, result_files_dl)\n",
    "        # merge and write resource-partial result\n",
    "        write_merge_results(result_all_partial, result_files_partial)\n",
    "        # merge and write resource-full result\n",
    "        write_merge_results(result_all_full, result_files_full)"
   ]
  },
  {
   "cell_type": "code",
   "execution_count": null,
   "metadata": {},
   "outputs": [],
   "source": []
  }
 ],
 "metadata": {
  "kernelspec": {
   "display_name": "Python 3",
   "language": "python",
   "name": "python3"
  },
  "language_info": {
   "codemirror_mode": {
    "name": "ipython",
    "version": 3
   },
   "file_extension": ".py",
   "mimetype": "text/x-python",
   "name": "python",
   "nbconvert_exporter": "python",
   "pygments_lexer": "ipython3",
   "version": "3.11.5"
  }
 },
 "nbformat": 4,
 "nbformat_minor": 2
}

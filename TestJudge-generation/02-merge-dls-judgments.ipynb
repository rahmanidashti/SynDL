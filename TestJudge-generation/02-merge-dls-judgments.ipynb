{
 "cells": [
  {
   "cell_type": "markdown",
   "metadata": {},
   "source": [
    "# All Qrels in One Place"
   ]
  },
  {
   "cell_type": "code",
   "execution_count": 2,
   "metadata": {},
   "outputs": [],
   "source": [
    "import pandas as pd"
   ]
  },
  {
   "cell_type": "code",
   "execution_count": 3,
   "metadata": {},
   "outputs": [],
   "source": [
    "RESOURCE = \"TestJudge\""
   ]
  },
  {
   "cell_type": "markdown",
   "metadata": {},
   "source": [
    "## Loading GPT-4 Qrels"
   ]
  },
  {
   "cell_type": "code",
   "execution_count": 4,
   "metadata": {},
   "outputs": [],
   "source": [
    "# loading 10-depth pools with synthetic judgments\n",
    "final_synthetic_judgment_path = \"gpt4-judgments/all-queries-processed-errors\"\n",
    "dl19_qrel = pd.read_csv(f\"{final_synthetic_judgment_path}/gpt4_judgments_dl2019_processed.txt\", sep=' ', header=None, names=['qid', 'Q0', 'docid', 'rel'])\n",
    "dl20_qrel = pd.read_csv(f\"{final_synthetic_judgment_path}/gpt4_judgments_dl2020_processed.txt\", sep=' ', header=None, names=['qid', 'Q0', 'docid', 'rel'])\n",
    "dl21_qrel = pd.read_csv(f\"{final_synthetic_judgment_path}/gpt4_judgments_dl2021_processed.txt\", sep=' ', header=None, names=['qid', 'Q0', 'docid', 'rel'])\n",
    "dl22_qrel = pd.read_csv(f\"{final_synthetic_judgment_path}/gpt4_judgments_dl2022_processed.txt\", sep=' ', header=None, names=['qid', 'Q0', 'docid', 'rel'])\n",
    "dl23_qrel = pd.read_csv(f\"{final_synthetic_judgment_path}/gpt4_judgments_dl2023_processed.txt\", sep=' ', header=None, names=['qid', 'Q0', 'docid', 'rel'])"
   ]
  },
  {
   "cell_type": "code",
   "execution_count": 5,
   "metadata": {},
   "outputs": [
    {
     "data": {
      "text/plain": [
       "(196846, 4)"
      ]
     },
     "execution_count": 5,
     "metadata": {},
     "output_type": "execute_result"
    }
   ],
   "source": [
    "dls_qrel = pd.concat([dl19_qrel, dl20_qrel, dl21_qrel, dl22_qrel, dl23_qrel], ignore_index=True, sort=False)\n",
    "dls_qrel.shape"
   ]
  },
  {
   "cell_type": "code",
   "execution_count": 6,
   "metadata": {},
   "outputs": [
    {
     "data": {
      "text/plain": [
       "(196846, 4)"
      ]
     },
     "execution_count": 6,
     "metadata": {},
     "output_type": "execute_result"
    }
   ],
   "source": [
    "# Drop duplicate rows for when the qid and docid are same from different years of judgment pools\n",
    "dls_qrel.drop_duplicates(subset=['qid', 'docid'], inplace=True)\n",
    "dls_qrel.shape"
   ]
  },
  {
   "cell_type": "code",
   "execution_count": 7,
   "metadata": {},
   "outputs": [],
   "source": [
    "dls_gpt4_judgments = open(f\"final-qrels/{RESOURCE}_qrels_pass.txt\", 'w')\n",
    "for eachqrel in dls_qrel.itertuples(index=True):\n",
    "    dls_gpt4_judgments.write(f\"{eachqrel.qid} 0 {eachqrel.docid} {eachqrel.rel}\\n\")\n",
    "dls_gpt4_judgments.close()"
   ]
  },
  {
   "cell_type": "markdown",
   "metadata": {},
   "source": [
    "## Loading NIST Qrel"
   ]
  },
  {
   "cell_type": "code",
   "execution_count": 10,
   "metadata": {},
   "outputs": [],
   "source": [
    "# load human qrels\n",
    "dl19_qrel_nist = pd.read_csv(\"TREC-DL-2019/qrels-pass.txt\", sep=' ', header=None, names=['qid', 'Q0', 'docid', 'rel'])\n",
    "dl20_qrel_nist = pd.read_csv(\"TREC-DL-2020/qrels-pass.txt\", sep=' ', header=None, names=['qid', 'Q0', 'docid', 'rel'])\n",
    "dl21_qrel_nist = pd.read_csv(\"TREC-DL-2021/qrels-pass.txt\", sep=' ', header=None, names=['qid', 'Q0', 'docid', 'rel'])\n",
    "dl22_qrel_nist = pd.read_csv(\"TREC-DL-2022/qrels-pass.txt\", sep=' ', header=None, names=['qid', 'Q0', 'docid', 'rel'])\n",
    "dl23_qrel_nist = pd.read_csv(\"TREC-DL-2023/qrels-pass.txt\", sep=' ', header=None, names=['qid', 'Q0', 'docid', 'rel'])"
   ]
  },
  {
   "cell_type": "code",
   "execution_count": 11,
   "metadata": {},
   "outputs": [
    {
     "data": {
      "text/plain": [
       "(440217, 4)"
      ]
     },
     "execution_count": 11,
     "metadata": {},
     "output_type": "execute_result"
    }
   ],
   "source": [
    "# merge all human qrels\n",
    "dls_qrel_nist = pd.concat([dl19_qrel_nist, dl20_qrel_nist, dl21_qrel_nist, dl22_qrel_nist, dl23_qrel_nist], ignore_index=True, sort=False)\n",
    "dls_qrel_nist.shape"
   ]
  },
  {
   "cell_type": "code",
   "execution_count": 13,
   "metadata": {},
   "outputs": [
    {
     "data": {
      "text/plain": [
       "(440217, 4)"
      ]
     },
     "execution_count": 13,
     "metadata": {},
     "output_type": "execute_result"
    }
   ],
   "source": [
    "# remove dups\n",
    "dls_qrel_nist.drop_duplicates(subset=['qid', 'docid'], inplace=True)\n",
    "dls_qrel_nist.shape"
   ]
  },
  {
   "cell_type": "code",
   "execution_count": 14,
   "metadata": {},
   "outputs": [
    {
     "data": {
      "text/plain": [
       "(637063, 4)"
      ]
     },
     "execution_count": 14,
     "metadata": {},
     "output_type": "execute_result"
    }
   ],
   "source": [
    "# concat both nist and gpt4 qrels\n",
    "dls_qrel_nistXgpt4 = pd.concat([dls_qrel_nist, dls_qrel], ignore_index=True, sort=False)\n",
    "dls_qrel_nistXgpt4.shape"
   ]
  },
  {
   "cell_type": "code",
   "execution_count": 15,
   "metadata": {},
   "outputs": [
    {
     "data": {
      "text/plain": [
       "(637063, 4)"
      ]
     },
     "execution_count": 15,
     "metadata": {},
     "output_type": "execute_result"
    }
   ],
   "source": [
    "# remove dups\n",
    "dls_qrel_nistXgpt4.drop_duplicates(subset=['qid', 'docid'], inplace=True)\n",
    "dls_qrel_nistXgpt4.shape"
   ]
  },
  {
   "cell_type": "code",
   "execution_count": 16,
   "metadata": {},
   "outputs": [],
   "source": [
    "# create a qrel including both: nist and gpt4\n",
    "dls_nistXgpt4_judgments = open(f\"final-qrels/{RESOURCE}_qrels_pass_withNIST.txt\", 'w')\n",
    "for eachqrel in dls_qrel_nistXgpt4.itertuples(index=True):\n",
    "    dls_nistXgpt4_judgments.write(f\"{eachqrel.qid} 0 {eachqrel.docid} {eachqrel.rel}\\n\")\n",
    "dls_nistXgpt4_judgments.close()"
   ]
  },
  {
   "cell_type": "code",
   "execution_count": 19,
   "metadata": {},
   "outputs": [
    {
     "data": {
      "text/plain": [
       "1988"
      ]
     },
     "execution_count": 19,
     "metadata": {},
     "output_type": "execute_result"
    }
   ],
   "source": [
    "len(set(dls_qrel_nistXgpt4['qid']))"
   ]
  },
  {
   "cell_type": "markdown",
   "metadata": {},
   "source": [
    "### Qrel Statistics"
   ]
  },
  {
   "cell_type": "code",
   "execution_count": 23,
   "metadata": {},
   "outputs": [
    {
     "name": "stdout",
     "output_type": "stream",
     "text": [
      "1763\n",
      "(196846, 4)\n"
     ]
    }
   ],
   "source": [
    "print(len(set(dls_qrel['qid'])))\n",
    "print(dls_qrel.shape)"
   ]
  },
  {
   "cell_type": "code",
   "execution_count": 24,
   "metadata": {},
   "outputs": [
    {
     "name": "stdout",
     "output_type": "stream",
     "text": [
      "1988\n",
      "(637063, 4)\n"
     ]
    }
   ],
   "source": [
    "print(len(set(dls_qrel_nistXgpt4['qid'])))\n",
    "print(dls_qrel_nistXgpt4.shape)"
   ]
  },
  {
   "cell_type": "code",
   "execution_count": 30,
   "metadata": {},
   "outputs": [
    {
     "name": "stdout",
     "output_type": "stream",
     "text": [
      "51966\n",
      "63212\n",
      "32658\n",
      "49010\n"
     ]
    }
   ],
   "source": [
    "print(dls_qrel[dls_qrel['rel'] == 0].shape[0])\n",
    "print(dls_qrel[dls_qrel['rel'] == 1].shape[0])\n",
    "print(dls_qrel[dls_qrel['rel'] == 2].shape[0])\n",
    "print(dls_qrel[dls_qrel['rel'] == 3].shape[0])"
   ]
  },
  {
   "cell_type": "code",
   "execution_count": 31,
   "metadata": {},
   "outputs": [
    {
     "name": "stdout",
     "output_type": "stream",
     "text": [
      "369567\n",
      "126406\n",
      "86162\n",
      "54928\n"
     ]
    }
   ],
   "source": [
    "print(dls_qrel_nistXgpt4[dls_qrel_nistXgpt4['rel'] == 0].shape[0])\n",
    "print(dls_qrel_nistXgpt4[dls_qrel_nistXgpt4['rel'] == 1].shape[0])\n",
    "print(dls_qrel_nistXgpt4[dls_qrel_nistXgpt4['rel'] == 2].shape[0])\n",
    "print(dls_qrel_nistXgpt4[dls_qrel_nistXgpt4['rel'] == 3].shape[0])"
   ]
  },
  {
   "cell_type": "code",
   "execution_count": null,
   "metadata": {},
   "outputs": [],
   "source": []
  }
 ],
 "metadata": {
  "kernelspec": {
   "display_name": "Python 3",
   "language": "python",
   "name": "python3"
  },
  "language_info": {
   "codemirror_mode": {
    "name": "ipython",
    "version": 3
   },
   "file_extension": ".py",
   "mimetype": "text/x-python",
   "name": "python",
   "nbconvert_exporter": "python",
   "pygments_lexer": "ipython3",
   "version": "3.11.5"
  }
 },
 "nbformat": 4,
 "nbformat_minor": 2
}

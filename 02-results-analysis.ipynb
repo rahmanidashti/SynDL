{
 "cells": [
  {
   "cell_type": "markdown",
   "metadata": {},
   "source": [
    "# Resource System Ordering Analysis"
   ]
  },
  {
   "cell_type": "code",
   "execution_count": 1,
   "metadata": {},
   "outputs": [],
   "source": [
    "import pandas as pd\n",
    "import matplotlib.pyplot as plt\n",
    "import scipy.stats as stats\n",
    "import numpy as np\n",
    "import csv\n",
    "import glob\n",
    "import os"
   ]
  },
  {
   "cell_type": "markdown",
   "metadata": {},
   "source": [
    "## Experiment Config"
   ]
  },
  {
   "cell_type": "code",
   "execution_count": 2,
   "metadata": {},
   "outputs": [],
   "source": [
    "def create_folder(folder):\n",
    "    if not os.path.exists(f'figs/results/{folder}'):\n",
    "        os.mkdir(f'figs/results/{folder}')  \n",
    "        print(\"Directory '% s' created\" % folder)"
   ]
  },
  {
   "cell_type": "code",
   "execution_count": 3,
   "metadata": {},
   "outputs": [
    {
     "name": "stdout",
     "output_type": "stream",
     "text": [
      "NDCG@10\n"
     ]
    }
   ],
   "source": [
    "# Parameters configuration\n",
    "task = 'fullrank'\n",
    "metric =  'ndcg_cut_10' # 'map' or 'ndcg_cut_1000'\n",
    "\n",
    "# create plots folder\n",
    "# create_folder(folder=metric)\n",
    "\n",
    "# This snipp code should be updated later.\n",
    "if '_' in metric:\n",
    "    cut_off = metric.split('_')[2] # '1000'\n",
    "    plot_metric = metric.split('_')[0].upper()\n",
    "    plot_metric = plot_metric + '@' + cut_off\n",
    "else:\n",
    "    cut_off = ''\n",
    "    # plot_metric = metric.upper()\n",
    "    plot_metric = metric\n",
    "\n",
    "print(plot_metric)"
   ]
  },
  {
   "cell_type": "code",
   "execution_count": 4,
   "metadata": {},
   "outputs": [],
   "source": [
    "# version = 'final'\n",
    "result_format = 'ndcgeval' # 'treceval' or 'ndcgeval'\n",
    "# File path\n",
    "metadata_file = 'metadata/metadata'\n",
    "# year = \"DL-20\"\n",
    "year = \"2019\"\n",
    "dl_year = \"dl\"+year"
   ]
  },
  {
   "cell_type": "code",
   "execution_count": 5,
   "metadata": {},
   "outputs": [],
   "source": [
    "# TREC DL Past Years\n",
    "nist_qrel_file = f\"TREC-DLs-files/TREC-DL-{year}/qrels-pass.txt\"\n",
    "\n",
    "full_nist_result_file = f'final-results/all.pass.{dl_year}.{result_format}'\n",
    "partial_resource_result_file = f'final-results/all.pass.{dl_year}.TestJudge.partial.{result_format}'\n",
    "full_resource_result_file = f'final-results/all.pass.{dl_year}.TestJudge.full.{result_format}'"
   ]
  },
  {
   "cell_type": "markdown",
   "metadata": {},
   "source": [
    "## Loading metadata\n",
    "Loading the metadata file to create a dictionary of runid to subtask, loading the metadata_models file to have the pipeline structure, adding the subtask info to metadata models dataframe"
   ]
  },
  {
   "cell_type": "code",
   "execution_count": 6,
   "metadata": {},
   "outputs": [],
   "source": [
    "runid_to_subtasks = dict()\n",
    "with open(metadata_file, 'rt', encoding = 'utf8') as f:\n",
    "    reader = csv.reader(f, delimiter = ':')\n",
    "    for [runid, group, _, _, _, _, maintask, _, subtask, _, _, _, _, model, _, _, _, _] in reader:\n",
    "        runid_to_subtasks[runid] = subtask.split('-')[0]"
   ]
  },
  {
   "cell_type": "code",
   "execution_count": 7,
   "metadata": {},
   "outputs": [
    {
     "data": {
      "text/html": [
       "<div>\n",
       "<style scoped>\n",
       "    .dataframe tbody tr th:only-of-type {\n",
       "        vertical-align: middle;\n",
       "    }\n",
       "\n",
       "    .dataframe tbody tr th {\n",
       "        vertical-align: top;\n",
       "    }\n",
       "\n",
       "    .dataframe thead th {\n",
       "        text-align: right;\n",
       "    }\n",
       "</style>\n",
       "<table border=\"1\" class=\"dataframe\">\n",
       "  <thead>\n",
       "    <tr style=\"text-align: right;\">\n",
       "      <th></th>\n",
       "      <th>run_id</th>\n",
       "      <th>LLM</th>\n",
       "      <th>pipeline</th>\n",
       "    </tr>\n",
       "  </thead>\n",
       "  <tbody>\n",
       "    <tr>\n",
       "      <th>0</th>\n",
       "      <td>colbertv2</td>\n",
       "      <td>-</td>\n",
       "      <td>Colbert-v2 and using pre-trained checkpoint an...</td>\n",
       "    </tr>\n",
       "    <tr>\n",
       "      <th>1</th>\n",
       "      <td>cip_run_7</td>\n",
       "      <td>MonoT5/GPT-3.5</td>\n",
       "      <td>Unicoil+doct5query (pyserini)%0A2. MonoT5-3b (...</td>\n",
       "    </tr>\n",
       "    <tr>\n",
       "      <th>2</th>\n",
       "      <td>cip_run_1</td>\n",
       "      <td>MonoT5/GPT-3.5/GPT-4</td>\n",
       "      <td>Unicoil+doct5query (pyserini)%0A2. MonoT5-3b (...</td>\n",
       "    </tr>\n",
       "    <tr>\n",
       "      <th>3</th>\n",
       "      <td>cip_run_2</td>\n",
       "      <td>MonoT5/GPT-3.5/GPT-4</td>\n",
       "      <td>Unicoil+doct5query (pyserini)%0A2. MonoT5-3b (...</td>\n",
       "    </tr>\n",
       "    <tr>\n",
       "      <th>4</th>\n",
       "      <td>cip_run_3</td>\n",
       "      <td>MonoT5/GPT-3.5</td>\n",
       "      <td>Unicoil+doct5query (pyserini)%0A2. MonoT5-3b (...</td>\n",
       "    </tr>\n",
       "  </tbody>\n",
       "</table>\n",
       "</div>"
      ],
      "text/plain": [
       "      run_id                   LLM  \\\n",
       "0  colbertv2                     -   \n",
       "1  cip_run_7        MonoT5/GPT-3.5   \n",
       "2  cip_run_1  MonoT5/GPT-3.5/GPT-4   \n",
       "3  cip_run_2  MonoT5/GPT-3.5/GPT-4   \n",
       "4  cip_run_3        MonoT5/GPT-3.5   \n",
       "\n",
       "                                            pipeline  \n",
       "0  Colbert-v2 and using pre-trained checkpoint an...  \n",
       "1  Unicoil+doct5query (pyserini)%0A2. MonoT5-3b (...  \n",
       "2  Unicoil+doct5query (pyserini)%0A2. MonoT5-3b (...  \n",
       "3  Unicoil+doct5query (pyserini)%0A2. MonoT5-3b (...  \n",
       "4  Unicoil+doct5query (pyserini)%0A2. MonoT5-3b (...  "
      ]
     },
     "execution_count": 7,
     "metadata": {},
     "output_type": "execute_result"
    }
   ],
   "source": [
    "# loading metadeta infomrmaiton for runs, we have the type of pipeline as a metadata here\n",
    "metadata_models_df = pd.read_csv('metadata/metadata_models.csv', sep=\"\\t\")\n",
    "metadata_models_df.head()"
   ]
  },
  {
   "cell_type": "code",
   "execution_count": 8,
   "metadata": {},
   "outputs": [
    {
     "data": {
      "text/html": [
       "<div>\n",
       "<style scoped>\n",
       "    .dataframe tbody tr th:only-of-type {\n",
       "        vertical-align: middle;\n",
       "    }\n",
       "\n",
       "    .dataframe tbody tr th {\n",
       "        vertical-align: top;\n",
       "    }\n",
       "\n",
       "    .dataframe thead th {\n",
       "        text-align: right;\n",
       "    }\n",
       "</style>\n",
       "<table border=\"1\" class=\"dataframe\">\n",
       "  <thead>\n",
       "    <tr style=\"text-align: right;\">\n",
       "      <th></th>\n",
       "      <th>run_id</th>\n",
       "      <th>LLM</th>\n",
       "      <th>pipeline</th>\n",
       "      <th>subtask</th>\n",
       "    </tr>\n",
       "  </thead>\n",
       "  <tbody>\n",
       "    <tr>\n",
       "      <th>0</th>\n",
       "      <td>colbertv2</td>\n",
       "      <td>-</td>\n",
       "      <td>Colbert-v2 and using pre-trained checkpoint an...</td>\n",
       "      <td>fullrank</td>\n",
       "    </tr>\n",
       "    <tr>\n",
       "      <th>1</th>\n",
       "      <td>cip_run_7</td>\n",
       "      <td>MonoT5/GPT-3.5</td>\n",
       "      <td>Unicoil+doct5query (pyserini)%0A2. MonoT5-3b (...</td>\n",
       "      <td>fullrank</td>\n",
       "    </tr>\n",
       "    <tr>\n",
       "      <th>2</th>\n",
       "      <td>cip_run_1</td>\n",
       "      <td>MonoT5/GPT-3.5/GPT-4</td>\n",
       "      <td>Unicoil+doct5query (pyserini)%0A2. MonoT5-3b (...</td>\n",
       "      <td>fullrank</td>\n",
       "    </tr>\n",
       "  </tbody>\n",
       "</table>\n",
       "</div>"
      ],
      "text/plain": [
       "      run_id                   LLM  \\\n",
       "0  colbertv2                     -   \n",
       "1  cip_run_7        MonoT5/GPT-3.5   \n",
       "2  cip_run_1  MonoT5/GPT-3.5/GPT-4   \n",
       "\n",
       "                                            pipeline   subtask  \n",
       "0  Colbert-v2 and using pre-trained checkpoint an...  fullrank  \n",
       "1  Unicoil+doct5query (pyserini)%0A2. MonoT5-3b (...  fullrank  \n",
       "2  Unicoil+doct5query (pyserini)%0A2. MonoT5-3b (...  fullrank  "
      ]
     },
     "execution_count": 8,
     "metadata": {},
     "output_type": "execute_result"
    }
   ],
   "source": [
    "metadata_models_df['subtask'] = metadata_models_df['run_id'].map(runid_to_subtasks)\n",
    "metadata_models_df.head(3)"
   ]
  },
  {
   "cell_type": "markdown",
   "metadata": {},
   "source": [
    "## Loading System Performance based on NIST Qrel"
   ]
  },
  {
   "cell_type": "code",
   "execution_count": 9,
   "metadata": {},
   "outputs": [
    {
     "name": "stdout",
     "output_type": "stream",
     "text": [
      "queries_judged 43\n",
      "real_queries_judged 43\n",
      "t5_queries_judged 0\n",
      "gpt4_queries_judged 0\n"
     ]
    }
   ],
   "source": [
    "nist_qrels = pd.read_csv(nist_qrel_file, sep=' ', header=None, names=['qid', 'Q0', 'docid', 'rel'])\n",
    "\n",
    "queries_judged = set(nist_qrels['qid'])\n",
    "\n",
    "real_queries_judged = [x for x in queries_judged if x < 3000000]\n",
    "t5_queries_judged = [x for x in queries_judged if x > 3000000 and x < 3100000]\n",
    "gpt4_queries_judged = [x for x in queries_judged if x > 3100000]\n",
    "\n",
    "print('queries_judged', len(queries_judged))\n",
    "print('real_queries_judged', len(real_queries_judged))\n",
    "print('t5_queries_judged', len(t5_queries_judged))\n",
    "print('gpt4_queries_judged', len(gpt4_queries_judged))"
   ]
  },
  {
   "cell_type": "code",
   "execution_count": 10,
   "metadata": {},
   "outputs": [
    {
     "name": "stdout",
     "output_type": "stream",
     "text": [
      "9260\n",
      "5158\n",
      "1601\n",
      "1804\n",
      "697\n"
     ]
    }
   ],
   "source": [
    "print(len(nist_qrels['rel']))\n",
    "print(len([x for x in nist_qrels['rel'] if x == 0]))\n",
    "print(len([x for x in nist_qrels['rel'] if x == 1]))\n",
    "print(len([x for x in nist_qrels['rel'] if x == 2]))\n",
    "print(len([x for x in nist_qrels['rel'] if x == 3]))"
   ]
  },
  {
   "cell_type": "code",
   "execution_count": 11,
   "metadata": {},
   "outputs": [],
   "source": [
    "# loading qrels for different DL years\n",
    "dl23_qrels = pd.read_csv(\"TREC-DLs-files/TREC-DL-2023/qrels-pass.txt\", sep=' ', header=None, names=['qid', 'Q0', 'docid', 'rel'])\n",
    "dl22_qrels = pd.read_csv(\"TREC-DLs-files/TREC-DL-2022/qrels-pass.txt\", sep=' ', header=None, names=['qid', 'Q0', 'docid', 'rel'])\n",
    "dl21_qrels = pd.read_csv(\"TREC-DLs-files/TREC-DL-2021/qrels-pass.txt\", sep=' ', header=None, names=['qid', 'Q0', 'docid', 'rel'])\n",
    "dl20_qrels = pd.read_csv(\"TREC-DLs-files/TREC-DL-2020/qrels-pass.txt\", sep=' ', header=None, names=['qid', 'Q0', 'docid', 'rel'])\n",
    "dl19_qrels = pd.read_csv(\"TREC-DLs-files/TREC-DL-2019/qrels-pass.txt\", sep=' ', header=None, names=['qid', 'Q0', 'docid', 'rel'])"
   ]
  },
  {
   "cell_type": "markdown",
   "metadata": {},
   "source": [
    "### Loading runs on NIST qrels "
   ]
  },
  {
   "cell_type": "code",
   "execution_count": 12,
   "metadata": {},
   "outputs": [],
   "source": [
    "# Loading results on NIST qrel for specific year of DL\n",
    "nist_labels_result = pd.read_csv(full_nist_result_file, sep='\\t', header=None, names=['run_id', 'metric', 'qid', 'score'])\n",
    "nist_labels_result = nist_labels_result[nist_labels_result['qid'] != 'all']\n",
    "nist_labels_result['qid'] = nist_labels_result['qid'].astype(int)\n",
    "nist_labels_result = nist_labels_result[(nist_labels_result['metric'] == metric)]\n",
    "nist_labels_result['score'] = nist_labels_result['score'].astype('float64')\n",
    "\n",
    "track_queries_nist_labels = nist_labels_result[(nist_labels_result['metric'] == metric)].groupby('run_id')['score'].agg(['mean', 'count']).reset_index()\n",
    "track_queries_nist_labels = track_queries_nist_labels.rename(columns={'mean':metric})\n",
    "runid_to_score_track_nist = dict(zip(track_queries_nist_labels['run_id'], track_queries_nist_labels[metric]))"
   ]
  },
  {
   "cell_type": "code",
   "execution_count": 13,
   "metadata": {},
   "outputs": [
    {
     "data": {
      "text/html": [
       "<div>\n",
       "<style scoped>\n",
       "    .dataframe tbody tr th:only-of-type {\n",
       "        vertical-align: middle;\n",
       "    }\n",
       "\n",
       "    .dataframe tbody tr th {\n",
       "        vertical-align: top;\n",
       "    }\n",
       "\n",
       "    .dataframe thead th {\n",
       "        text-align: right;\n",
       "    }\n",
       "</style>\n",
       "<table border=\"1\" class=\"dataframe\">\n",
       "  <thead>\n",
       "    <tr style=\"text-align: right;\">\n",
       "      <th></th>\n",
       "      <th>run_id</th>\n",
       "      <th>metric</th>\n",
       "      <th>qid</th>\n",
       "      <th>score</th>\n",
       "    </tr>\n",
       "  </thead>\n",
       "  <tbody>\n",
       "    <tr>\n",
       "      <th>2</th>\n",
       "      <td>p_exp_rm3_bert</td>\n",
       "      <td>ndcg_cut_10</td>\n",
       "      <td>1037798</td>\n",
       "      <td>0.1608</td>\n",
       "    </tr>\n",
       "    <tr>\n",
       "      <th>12</th>\n",
       "      <td>p_exp_rm3_bert</td>\n",
       "      <td>ndcg_cut_10</td>\n",
       "      <td>104861</td>\n",
       "      <td>1.0000</td>\n",
       "    </tr>\n",
       "    <tr>\n",
       "      <th>22</th>\n",
       "      <td>p_exp_rm3_bert</td>\n",
       "      <td>ndcg_cut_10</td>\n",
       "      <td>1063750</td>\n",
       "      <td>0.8100</td>\n",
       "    </tr>\n",
       "    <tr>\n",
       "      <th>32</th>\n",
       "      <td>p_exp_rm3_bert</td>\n",
       "      <td>ndcg_cut_10</td>\n",
       "      <td>1103812</td>\n",
       "      <td>0.7269</td>\n",
       "    </tr>\n",
       "    <tr>\n",
       "      <th>42</th>\n",
       "      <td>p_exp_rm3_bert</td>\n",
       "      <td>ndcg_cut_10</td>\n",
       "      <td>1106007</td>\n",
       "      <td>0.7966</td>\n",
       "    </tr>\n",
       "    <tr>\n",
       "      <th>...</th>\n",
       "      <td>...</td>\n",
       "      <td>...</td>\n",
       "      <td>...</td>\n",
       "      <td>...</td>\n",
       "    </tr>\n",
       "    <tr>\n",
       "      <th>15782</th>\n",
       "      <td>runid2</td>\n",
       "      <td>ndcg_cut_10</td>\n",
       "      <td>855410</td>\n",
       "      <td>0.9907</td>\n",
       "    </tr>\n",
       "    <tr>\n",
       "      <th>15792</th>\n",
       "      <td>runid2</td>\n",
       "      <td>ndcg_cut_10</td>\n",
       "      <td>87181</td>\n",
       "      <td>0.7071</td>\n",
       "    </tr>\n",
       "    <tr>\n",
       "      <th>15802</th>\n",
       "      <td>runid2</td>\n",
       "      <td>ndcg_cut_10</td>\n",
       "      <td>87452</td>\n",
       "      <td>0.4936</td>\n",
       "    </tr>\n",
       "    <tr>\n",
       "      <th>15812</th>\n",
       "      <td>runid2</td>\n",
       "      <td>ndcg_cut_10</td>\n",
       "      <td>915593</td>\n",
       "      <td>0.2935</td>\n",
       "    </tr>\n",
       "    <tr>\n",
       "      <th>15822</th>\n",
       "      <td>runid2</td>\n",
       "      <td>ndcg_cut_10</td>\n",
       "      <td>962179</td>\n",
       "      <td>0.0734</td>\n",
       "    </tr>\n",
       "  </tbody>\n",
       "</table>\n",
       "<p>1548 rows × 4 columns</p>\n",
       "</div>"
      ],
      "text/plain": [
       "               run_id       metric      qid   score\n",
       "2      p_exp_rm3_bert  ndcg_cut_10  1037798  0.1608\n",
       "12     p_exp_rm3_bert  ndcg_cut_10   104861  1.0000\n",
       "22     p_exp_rm3_bert  ndcg_cut_10  1063750  0.8100\n",
       "32     p_exp_rm3_bert  ndcg_cut_10  1103812  0.7269\n",
       "42     p_exp_rm3_bert  ndcg_cut_10  1106007  0.7966\n",
       "...               ...          ...      ...     ...\n",
       "15782          runid2  ndcg_cut_10   855410  0.9907\n",
       "15792          runid2  ndcg_cut_10    87181  0.7071\n",
       "15802          runid2  ndcg_cut_10    87452  0.4936\n",
       "15812          runid2  ndcg_cut_10   915593  0.2935\n",
       "15822          runid2  ndcg_cut_10   962179  0.0734\n",
       "\n",
       "[1548 rows x 4 columns]"
      ]
     },
     "execution_count": 13,
     "metadata": {},
     "output_type": "execute_result"
    }
   ],
   "source": [
    "nist_labels_result"
   ]
  },
  {
   "cell_type": "code",
   "execution_count": 14,
   "metadata": {},
   "outputs": [
    {
     "name": "stdout",
     "output_type": "stream",
     "text": [
      "36\n"
     ]
    }
   ],
   "source": [
    "# removing the runs that are for reranking task (4 runs for reranking) -> 39 runs will be remain\n",
    "included_runids = metadata_models_df[metadata_models_df['subtask'] == task]['run_id']\n",
    "print(len(set(included_runids)))\n",
    "\n",
    "# We have {'D_bm25_splades', 'D_naverloo-frgpt4', 'D_naverloo_bm25_RR', 'D_naverloo_bm_splade_RR', 'colbertv2'}\n",
    "# runs that have not submitted their results. So, we have 40 run_ids in metadata file in total, the rerank ones (4 runs) \n",
    "# are rmeoved from the list using the above command. Then, 36 runs we have, in whiche 5 submissions are have not submitteed their reuslt\n",
    "# so we will have 31 submissions in total.\n",
    "\n",
    "# nist_labels_result = nist_labels_result[nist_labels_result['run_id'].isin(included_runids)]\n",
    "# print(len(set(nist_labels_result['run_id'])))\n",
    "\n",
    "nist_labels_result = nist_labels_result[nist_labels_result['qid'] != 'all']\n",
    "nist_labels_result['qid'] = nist_labels_result['qid'].astype(int)\n",
    "nist_labels_result = nist_labels_result[(nist_labels_result['metric'] == metric)]\n",
    "nist_labels_result['score'] = nist_labels_result['score'].astype('float64')"
   ]
  },
  {
   "cell_type": "code",
   "execution_count": 15,
   "metadata": {},
   "outputs": [],
   "source": [
    "track_queries_nist_labels = nist_labels_result[(nist_labels_result['metric'] == metric) & (nist_labels_result['qid'].isin(queries_judged))].groupby('run_id')['score'].agg(['mean', 'count']).reset_index()\n",
    "track_queries_nist_labels = track_queries_nist_labels.rename(columns={'mean':metric})\n",
    "runid_to_score_track_nist = dict(zip(track_queries_nist_labels['run_id'], track_queries_nist_labels[metric]))\n",
    "\n",
    "generated_queries_nist_labels = nist_labels_result[(nist_labels_result['metric'] == metric) & ((nist_labels_result['qid'].isin(t5_queries_judged)) | ((nist_labels_result['qid'].isin(gpt4_queries_judged)))) ].groupby('run_id')['score'].agg(['mean', 'count']).reset_index()\n",
    "generated_queries_nist_labels = generated_queries_nist_labels.rename(columns={'mean':metric})\n",
    "runid_to_score_generated_nist = dict(zip(generated_queries_nist_labels['run_id'], generated_queries_nist_labels[metric]))\n",
    "\n",
    "real_queries_nist_labels = nist_labels_result[(nist_labels_result['metric'] == metric) & (nist_labels_result['qid'].isin(real_queries_judged))].groupby('run_id')['score'].agg(['mean', 'count']).reset_index()\n",
    "real_queries_nist_labels = real_queries_nist_labels.rename(columns={'mean':metric})\n",
    "runid_to_score_real_nist = dict(zip(real_queries_nist_labels['run_id'], real_queries_nist_labels[metric]))\n",
    "\n",
    "t5_queries_nist_labels = nist_labels_result[(nist_labels_result['metric'] == metric) & (nist_labels_result['qid'].isin(t5_queries_judged))].groupby('run_id')['score'].agg(['mean', 'count']).reset_index()\n",
    "t5_queries_nist_labels = t5_queries_nist_labels.rename(columns={'mean':metric})\n",
    "runid_to_score_t5_nist = dict(zip(t5_queries_nist_labels['run_id'], t5_queries_nist_labels[metric]))\n",
    "\n",
    "gpt4_queries_nist_labels = nist_labels_result[(nist_labels_result['metric'] == metric) & (nist_labels_result['qid'].isin(gpt4_queries_judged))].groupby('run_id')['score'].agg(['mean', 'count']).reset_index()\n",
    "gpt4_queries_nist_labels = gpt4_queries_nist_labels.rename(columns={'mean':metric})\n",
    "runid_to_score_gpt4_nist = dict(zip(gpt4_queries_nist_labels['run_id'], gpt4_queries_nist_labels[metric]))"
   ]
  },
  {
   "cell_type": "markdown",
   "metadata": {},
   "source": [
    "### Loading runs results on Resource qrels "
   ]
  },
  {
   "cell_type": "code",
   "execution_count": 16,
   "metadata": {},
   "outputs": [],
   "source": [
    "gpt4_labels_result = pd.read_csv(full_resource_result_file, sep='\\t', header=None, names=['run_id', 'metric', 'qid', 'score'])\n",
    "gpt4_labels_result.head()\n",
    "\n",
    "gpt4_labels_result = gpt4_labels_result[gpt4_labels_result['qid'] != 'all']\n",
    "gpt4_labels_result['qid'] = gpt4_labels_result['qid'].astype(int)\n",
    "gpt4_labels_result = gpt4_labels_result[(gpt4_labels_result['metric'] == metric)]\n",
    "gpt4_labels_result['score'] = gpt4_labels_result['score'].astype('float64')\n",
    "\n",
    "track_queries_gpt4_labels = gpt4_labels_result[(gpt4_labels_result['metric'] == metric)].groupby('run_id')['score'].agg(['mean', 'count']).reset_index()\n",
    "track_queries_gpt4_labels = track_queries_gpt4_labels.rename(columns={'mean':metric})\n",
    "runid_to_score_track_gpt4 = dict(zip(track_queries_gpt4_labels['run_id'], track_queries_gpt4_labels[metric]))"
   ]
  },
  {
   "cell_type": "markdown",
   "metadata": {},
   "source": [
    "### Loading Configs"
   ]
  },
  {
   "cell_type": "code",
   "execution_count": 17,
   "metadata": {},
   "outputs": [],
   "source": [
    "# loading the metadata and assigning LLM tag based on the pipeline of each run\n",
    "run_to_model = {}\n",
    "# red: gpt, yellow: t5, orange: gpt+t5, and blue: everything else\n",
    "for eachline in metadata_models_df.itertuples(index=True):\n",
    "    # if we have both T5 and GPT version in the pipeline\n",
    "    if 'T5' in eachline.LLM and 'GPT' in eachline.LLM:\n",
    "        run_to_model[eachline.run_id] = 'GPT+T5'\n",
    "    elif 'GPT' in eachline.LLM:\n",
    "        run_to_model[eachline.run_id] = 'GPT'\n",
    "    elif 'T5' in eachline.LLM:\n",
    "        run_to_model[eachline.run_id] = 'T5'\n",
    "    else:\n",
    "        run_to_model[eachline.run_id] = 'Others'"
   ]
  },
  {
   "cell_type": "code",
   "execution_count": 18,
   "metadata": {},
   "outputs": [],
   "source": [
    "def get_merged_df(dict_1, dict_2):\n",
    "\n",
    "    # Convert dictionaries to DataFrames\n",
    "    df1 = pd.DataFrame(list(dict_1.items()), columns=['Key', 'Value1'])\n",
    "    df2 = pd.DataFrame(list(dict_2.items()), columns=['Key', 'Value2'])\n",
    "\n",
    "    # Merge the DataFrames based on the 'Key' column\n",
    "    merged_df = pd.merge(df1, df2, on='Key', how='outer')\n",
    "\n",
    "    return merged_df"
   ]
  },
  {
   "cell_type": "code",
   "execution_count": 19,
   "metadata": {},
   "outputs": [],
   "source": [
    "model_to_color = {'GPT': 'red', 'T5': 'brown', 'GPT+T5': 'orange', 'Others': 'green'}\n",
    "model_to_marker = {'GPT': 'x', 'T5': '|', 'GPT+T5': '+', 'Others': '.'}"
   ]
  },
  {
   "cell_type": "markdown",
   "metadata": {},
   "source": [
    "## 3. Generating Plots for Various Types of Analysis"
   ]
  },
  {
   "cell_type": "code",
   "execution_count": 20,
   "metadata": {},
   "outputs": [],
   "source": [
    "def get_plot(x_avg_scores, y_avg_scores, query_types=['track', 'real'], label_types=['NIST', 'NIST']):\n",
    "\n",
    "    # splitting query types\n",
    "    query_type_x = query_types[0]\n",
    "    query_type_y = query_types[1]\n",
    "\n",
    "    # splitting query types\n",
    "    label_type_x = label_types[0]\n",
    "    label_type_y = label_types[1]\n",
    "\n",
    "    # if label_type_x == 'Sparse':\n",
    "    #     metric_type_x = f\"NDCG@{cut_off}\"\n",
    "    # else:\n",
    "    #     metric_type_x = f\"NDCG@{cut_off}\"\n",
    "\n",
    "    # if label_type_y == 'Sparse':\n",
    "    #     metric_type_y = f\"NDCG@{cut_off}\"\n",
    "    # else:\n",
    "    #     metric_type_y = f\"NDCG@{cut_off}\"\n",
    "\n",
    "    merged_df = get_merged_df(x_avg_scores, y_avg_scores)\n",
    "\n",
    "    for eachline in merged_df.itertuples(index=True):\n",
    "        run_model = run_to_model[eachline.Key]\n",
    "        model_color = model_to_color[run_model]\n",
    "        model_marker = model_to_marker[run_model]\n",
    "        plt.scatter(eachline.Value1, eachline.Value2, c=f\"{model_color}\", marker=f\"{model_marker}\", label=f\"{run_model}\", s=70)\n",
    "\n",
    "    if label_type_x != 'Sparse' and label_type_y != 'Sparse':\n",
    "        # axes\n",
    "        ax = plt.gca()\n",
    "        lims = [\n",
    "            np.min([ax.get_xlim(), ax.get_ylim()]),  # min of both axes\n",
    "            np.max([ax.get_xlim(), ax.get_ylim()]),  # max of both axes\n",
    "            ]\n",
    "        \n",
    "        # now plot both limits against eachother\n",
    "        ax.plot(lims, lims, color='blue', linestyle='dashed', linewidth=0.7)\n",
    "    \n",
    "    tau, p_value = stats.kendalltau(merged_df['Value1'], merged_df['Value2'])\n",
    "\n",
    "    #adding tau inside the plot \n",
    "    plt.annotate(r'Kendall $\\tau$ = %s' %np.round(tau, 4), xy=(0.03, 0.9), xycoords='axes fraction', fontsize=14)\n",
    "    \n",
    "    # plt.xlabel(f'{metric_type_x} on {query_type_x} queries ({label_type_x} Qrel)', fontsize=10)\n",
    "    # plt.ylabel(f'{metric_type_y} on {query_type_y} queries ({label_type_y} Qrel)', fontsize=10)\n",
    "\n",
    "    # plt.xlabel(f'{plot_metric} ({query_type_x}, {label_type_x} Judgments)', fontsize=13)\n",
    "    # plt.ylabel(f'{plot_metric} ({query_type_y}, {label_type_y} Judgments)', fontsize=13)\n",
    "\n",
    "    plt.xlabel(f'{plot_metric} ({query_type_x})', fontsize=16)\n",
    "    plt.ylabel(f'{plot_metric} ({query_type_y})', fontsize=16)\n",
    "\n",
    "    handles, labels = plt.gca().get_legend_handles_labels()\n",
    "    by_label = dict(zip(labels, handles))\n",
    "    plt.legend(by_label.values(), by_label.keys(), edgecolor='black', fontsize=13, loc = \"lower right\")\n",
    "\n",
    "    plt.xticks(fontsize=13)\n",
    "    plt.yticks(fontsize=13)\n",
    "\n",
    "    # plt.show()\n",
    "\n",
    "    plt.savefig(f\"figs/results/{dl_year}_{plot_metric}_colored.pdf\", bbox_inches='tight')"
   ]
  },
  {
   "cell_type": "code",
   "execution_count": 21,
   "metadata": {},
   "outputs": [],
   "source": [
    "def get_plot_simple(x_avg_scores, y_avg_scores, query_types=['track', 'real'], label_types=['NIST', 'NIST']):\n",
    "\n",
    "    # splitting query types\n",
    "    query_type_x = query_types[0]\n",
    "    query_type_y = query_types[1]\n",
    "\n",
    "    merged_df = get_merged_df(x_avg_scores, y_avg_scores)\n",
    "\n",
    "    for eachline in merged_df.itertuples(index=True):\n",
    "        plt.scatter(eachline.Value1, eachline.Value2, c='black')\n",
    "\n",
    "    ax = plt.gca()\n",
    "    lims = [\n",
    "        np.min([ax.get_xlim(), ax.get_ylim()]),  # min of both axes\n",
    "        np.max([ax.get_xlim(), ax.get_ylim()]),  # max of both axes\n",
    "        ]\n",
    "        \n",
    "    # now plot both limits against eachother\n",
    "    ax.plot(lims, lims, color='black', linestyle='dashed', linewidth=0.7)\n",
    "    \n",
    "    tau, p_value = stats.kendalltau(merged_df['Value1'], merged_df['Value2'])\n",
    "\n",
    "    #adding tau inside the plot \n",
    "    plt.annotate(r'Kendall $\\tau$ = %s' %np.round(tau, 4), xy=(0.03, 0.9), xycoords='axes fraction', fontsize=16)\n",
    "\n",
    "    plt.xlabel(f'{plot_metric} ({query_type_x})', fontsize=16)\n",
    "    plt.ylabel(f'{plot_metric} ({query_type_y})', fontsize=16)\n",
    "\n",
    "    plt.xticks(fontsize=13)\n",
    "    plt.yticks(fontsize=13)\n",
    "\n",
    "    # plt.show()\n",
    "\n",
    "    plt.savefig(f\"figs/results//{dl_year}_{plot_metric}_black.pdf\", bbox_inches='tight')"
   ]
  },
  {
   "cell_type": "markdown",
   "metadata": {},
   "source": [
    "### 3.1 Generating Query Analysis Plots (Synthetic Query Analysis -- NIST Qrels)"
   ]
  },
  {
   "cell_type": "code",
   "execution_count": 22,
   "metadata": {},
   "outputs": [
    {
     "data": {
      "image/png": "[encoded data removed]",
      "text/plain": [
       "<Figure size 640x480 with 1 Axes>"
      ]
     },
     "metadata": {},
     "output_type": "display_data"
    }
   ],
   "source": [
    "get_plot_simple(runid_to_score_track_nist, runid_to_score_track_gpt4, query_types=['DL-19', 'TestJudge'], label_types=['Human', 'GPT-4'])"
   ]
  },
  {
   "cell_type": "code",
   "execution_count": null,
   "metadata": {},
   "outputs": [],
   "source": [
    "get_plot(runid_to_score_track_nist, runid_to_score_track_gpt4, query_types=['DL-23', 'TestJudge'], label_types=['Human', 'GPT-4'])"
   ]
  },
  {
   "cell_type": "code",
   "execution_count": null,
   "metadata": {},
   "outputs": [],
   "source": []
  }
 ],
 "metadata": {
  "kernelspec": {
   "display_name": "Python 3",
   "language": "python",
   "name": "python3"
  },
  "language_info": {
   "codemirror_mode": {
    "name": "ipython",
    "version": 3
   },
   "file_extension": ".py",
   "mimetype": "text/x-python",
   "name": "python",
   "nbconvert_exporter": "python",
   "pygments_lexer": "ipython3",
   "version": "3.11.5"
  }
 },
 "nbformat": 4,
 "nbformat_minor": 2
}

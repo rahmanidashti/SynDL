{
 "cells": [
  {
   "cell_type": "markdown",
   "metadata": {},
   "source": [
    "# Resource System Ordering Analysis"
   ]
  },
  {
   "cell_type": "code",
   "execution_count": 1,
   "metadata": {},
   "outputs": [],
   "source": [
    "import pandas as pd\n",
    "import matplotlib.pyplot as plt\n",
    "import scipy.stats as stats\n",
    "import numpy as np\n",
    "import csv\n",
    "import glob\n",
    "import os"
   ]
  },
  {
   "cell_type": "markdown",
   "metadata": {},
   "source": [
    "## Experiment Config"
   ]
  },
  {
   "cell_type": "code",
   "execution_count": 2,
   "metadata": {},
   "outputs": [],
   "source": [
    "def create_folder(folder):\n",
    "    if not os.path.exists(f'figs/results/{folder}'):\n",
    "        os.mkdir(f'figs/results/{folder}')  \n",
    "        print(\"Directory '% s' created\" % folder)"
   ]
  },
  {
   "cell_type": "code",
   "execution_count": 400,
   "metadata": {},
   "outputs": [
    {
     "name": "stdout",
     "output_type": "stream",
     "text": [
      "NDCG@100\n"
     ]
    }
   ],
   "source": [
    "# Parameters configuration\n",
    "task = 'fullrank'\n",
    "metric = 'ndcg_cut_100' # 'map' or 'ndcg_cut_1000'\n",
    "\n",
    "# create plots folder\n",
    "# create_folder(folder=metric)\n",
    "\n",
    "# This snipp code should be updated later.\n",
    "if '_' in metric:\n",
    "    cut_off = metric.split('_')[2] # '1000'\n",
    "    plot_metric = metric.split('_')[0].upper()\n",
    "    plot_metric = plot_metric + '@' + cut_off\n",
    "else:\n",
    "    cut_off = ''\n",
    "    # plot_metric = metric.upper()\n",
    "    plot_metric = metric\n",
    "\n",
    "print(plot_metric)"
   ]
  },
  {
   "cell_type": "code",
   "execution_count": 401,
   "metadata": {},
   "outputs": [],
   "source": [
    "# version = 'final'\n",
    "result_format = 'ndcgeval' # 'treceval' or 'ndcgeval'\n",
    "# File path\n",
    "metadata_file = 'metadata/metadata'\n",
    "# year = \"DL-20\"\n",
    "year = \"2022\"\n",
    "dl_year = \"dl\"+year"
   ]
  },
  {
   "cell_type": "code",
   "execution_count": 402,
   "metadata": {},
   "outputs": [],
   "source": [
    "# TREC DL Past Years\n",
    "nist_qrel_file = f\"TREC-DLs-files/TREC-DL-{year}/qrels-pass.txt\"\n",
    "\n",
    "full_nist_result_file = f'final-results/all.pass.{dl_year}.{result_format}'\n",
    "partial_resource_result_file = f'final-results/all.pass.{dl_year}.SynDL.partial.{result_format}'\n",
    "full_resource_result_file = f'final-results/all.pass.{dl_year}.SynDL.full.{result_format}'"
   ]
  },
  {
   "cell_type": "markdown",
   "metadata": {},
   "source": [
    "## Loading metadata\n",
    "Loading the metadata file to create a dictionary of runid to subtask, loading the metadata_models file to have the pipeline structure, adding the subtask info to metadata models dataframe"
   ]
  },
  {
   "cell_type": "code",
   "execution_count": 403,
   "metadata": {},
   "outputs": [],
   "source": [
    "runid_to_subtasks = dict()\n",
    "with open(metadata_file, 'rt', encoding = 'utf8') as f:\n",
    "    reader = csv.reader(f, delimiter = ':')\n",
    "    for [runid, group, _, _, _, _, maintask, _, subtask, _, _, _, _, model, _, _, _, _] in reader:\n",
    "        runid_to_subtasks[runid] = subtask.split('-')[0]"
   ]
  },
  {
   "cell_type": "code",
   "execution_count": 404,
   "metadata": {},
   "outputs": [
    {
     "data": {
      "text/html": [
       "<div>\n",
       "<style scoped>\n",
       "    .dataframe tbody tr th:only-of-type {\n",
       "        vertical-align: middle;\n",
       "    }\n",
       "\n",
       "    .dataframe tbody tr th {\n",
       "        vertical-align: top;\n",
       "    }\n",
       "\n",
       "    .dataframe thead th {\n",
       "        text-align: right;\n",
       "    }\n",
       "</style>\n",
       "<table border=\"1\" class=\"dataframe\">\n",
       "  <thead>\n",
       "    <tr style=\"text-align: right;\">\n",
       "      <th></th>\n",
       "      <th>run_id</th>\n",
       "      <th>LLM</th>\n",
       "      <th>pipeline</th>\n",
       "    </tr>\n",
       "  </thead>\n",
       "  <tbody>\n",
       "    <tr>\n",
       "      <th>0</th>\n",
       "      <td>colbertv2</td>\n",
       "      <td>-</td>\n",
       "      <td>Colbert-v2 and using pre-trained checkpoint an...</td>\n",
       "    </tr>\n",
       "    <tr>\n",
       "      <th>1</th>\n",
       "      <td>cip_run_7</td>\n",
       "      <td>MonoT5/GPT-3.5</td>\n",
       "      <td>Unicoil+doct5query (pyserini)%0A2. MonoT5-3b (...</td>\n",
       "    </tr>\n",
       "    <tr>\n",
       "      <th>2</th>\n",
       "      <td>cip_run_1</td>\n",
       "      <td>MonoT5/GPT-3.5/GPT-4</td>\n",
       "      <td>Unicoil+doct5query (pyserini)%0A2. MonoT5-3b (...</td>\n",
       "    </tr>\n",
       "    <tr>\n",
       "      <th>3</th>\n",
       "      <td>cip_run_2</td>\n",
       "      <td>MonoT5/GPT-3.5/GPT-4</td>\n",
       "      <td>Unicoil+doct5query (pyserini)%0A2. MonoT5-3b (...</td>\n",
       "    </tr>\n",
       "    <tr>\n",
       "      <th>4</th>\n",
       "      <td>cip_run_3</td>\n",
       "      <td>MonoT5/GPT-3.5</td>\n",
       "      <td>Unicoil+doct5query (pyserini)%0A2. MonoT5-3b (...</td>\n",
       "    </tr>\n",
       "  </tbody>\n",
       "</table>\n",
       "</div>"
      ],
      "text/plain": [
       "      run_id                   LLM  \\\n",
       "0  colbertv2                     -   \n",
       "1  cip_run_7        MonoT5/GPT-3.5   \n",
       "2  cip_run_1  MonoT5/GPT-3.5/GPT-4   \n",
       "3  cip_run_2  MonoT5/GPT-3.5/GPT-4   \n",
       "4  cip_run_3        MonoT5/GPT-3.5   \n",
       "\n",
       "                                            pipeline  \n",
       "0  Colbert-v2 and using pre-trained checkpoint an...  \n",
       "1  Unicoil+doct5query (pyserini)%0A2. MonoT5-3b (...  \n",
       "2  Unicoil+doct5query (pyserini)%0A2. MonoT5-3b (...  \n",
       "3  Unicoil+doct5query (pyserini)%0A2. MonoT5-3b (...  \n",
       "4  Unicoil+doct5query (pyserini)%0A2. MonoT5-3b (...  "
      ]
     },
     "execution_count": 404,
     "metadata": {},
     "output_type": "execute_result"
    }
   ],
   "source": [
    "# loading metadeta infomrmaiton for runs, we have the type of pipeline as a metadata here\n",
    "metadata_models_df = pd.read_csv('metadata/metadata_models.csv', sep=\"\\t\")\n",
    "metadata_models_df.head()"
   ]
  },
  {
   "cell_type": "code",
   "execution_count": 405,
   "metadata": {},
   "outputs": [
    {
     "data": {
      "text/html": [
       "<div>\n",
       "<style scoped>\n",
       "    .dataframe tbody tr th:only-of-type {\n",
       "        vertical-align: middle;\n",
       "    }\n",
       "\n",
       "    .dataframe tbody tr th {\n",
       "        vertical-align: top;\n",
       "    }\n",
       "\n",
       "    .dataframe thead th {\n",
       "        text-align: right;\n",
       "    }\n",
       "</style>\n",
       "<table border=\"1\" class=\"dataframe\">\n",
       "  <thead>\n",
       "    <tr style=\"text-align: right;\">\n",
       "      <th></th>\n",
       "      <th>run_id</th>\n",
       "      <th>LLM</th>\n",
       "      <th>pipeline</th>\n",
       "      <th>subtask</th>\n",
       "    </tr>\n",
       "  </thead>\n",
       "  <tbody>\n",
       "    <tr>\n",
       "      <th>0</th>\n",
       "      <td>colbertv2</td>\n",
       "      <td>-</td>\n",
       "      <td>Colbert-v2 and using pre-trained checkpoint an...</td>\n",
       "      <td>fullrank</td>\n",
       "    </tr>\n",
       "    <tr>\n",
       "      <th>1</th>\n",
       "      <td>cip_run_7</td>\n",
       "      <td>MonoT5/GPT-3.5</td>\n",
       "      <td>Unicoil+doct5query (pyserini)%0A2. MonoT5-3b (...</td>\n",
       "      <td>fullrank</td>\n",
       "    </tr>\n",
       "    <tr>\n",
       "      <th>2</th>\n",
       "      <td>cip_run_1</td>\n",
       "      <td>MonoT5/GPT-3.5/GPT-4</td>\n",
       "      <td>Unicoil+doct5query (pyserini)%0A2. MonoT5-3b (...</td>\n",
       "      <td>fullrank</td>\n",
       "    </tr>\n",
       "  </tbody>\n",
       "</table>\n",
       "</div>"
      ],
      "text/plain": [
       "      run_id                   LLM  \\\n",
       "0  colbertv2                     -   \n",
       "1  cip_run_7        MonoT5/GPT-3.5   \n",
       "2  cip_run_1  MonoT5/GPT-3.5/GPT-4   \n",
       "\n",
       "                                            pipeline   subtask  \n",
       "0  Colbert-v2 and using pre-trained checkpoint an...  fullrank  \n",
       "1  Unicoil+doct5query (pyserini)%0A2. MonoT5-3b (...  fullrank  \n",
       "2  Unicoil+doct5query (pyserini)%0A2. MonoT5-3b (...  fullrank  "
      ]
     },
     "execution_count": 405,
     "metadata": {},
     "output_type": "execute_result"
    }
   ],
   "source": [
    "metadata_models_df['subtask'] = metadata_models_df['run_id'].map(runid_to_subtasks)\n",
    "metadata_models_df.head(3)"
   ]
  },
  {
   "cell_type": "markdown",
   "metadata": {},
   "source": [
    "## Loading System Performance based on NIST Qrel"
   ]
  },
  {
   "cell_type": "code",
   "execution_count": 406,
   "metadata": {},
   "outputs": [
    {
     "name": "stdout",
     "output_type": "stream",
     "text": [
      "queries_judged 76\n",
      "real_queries_judged 76\n",
      "t5_queries_judged 0\n",
      "gpt4_queries_judged 0\n"
     ]
    }
   ],
   "source": [
    "nist_qrels = pd.read_csv(nist_qrel_file, sep=' ', header=None, names=['qid', 'Q0', 'docid', 'rel'])\n",
    "\n",
    "queries_judged = set(nist_qrels['qid'])\n",
    "\n",
    "real_queries_judged = [x for x in queries_judged if x < 3000000]\n",
    "t5_queries_judged = [x for x in queries_judged if x > 3000000 and x < 3100000]\n",
    "gpt4_queries_judged = [x for x in queries_judged if x > 3100000]\n",
    "\n",
    "print('queries_judged', len(queries_judged))\n",
    "print('real_queries_judged', len(real_queries_judged))\n",
    "print('t5_queries_judged', len(t5_queries_judged))\n",
    "print('gpt4_queries_judged', len(gpt4_queries_judged))"
   ]
  },
  {
   "cell_type": "code",
   "execution_count": 407,
   "metadata": {},
   "outputs": [
    {
     "name": "stdout",
     "output_type": "stream",
     "text": [
      "386416\n",
      "286459\n",
      "52218\n",
      "46080\n",
      "1659\n"
     ]
    }
   ],
   "source": [
    "print(len(nist_qrels['rel']))\n",
    "print(len([x for x in nist_qrels['rel'] if x == 0]))\n",
    "print(len([x for x in nist_qrels['rel'] if x == 1]))\n",
    "print(len([x for x in nist_qrels['rel'] if x == 2]))\n",
    "print(len([x for x in nist_qrels['rel'] if x == 3]))"
   ]
  },
  {
   "cell_type": "code",
   "execution_count": 408,
   "metadata": {},
   "outputs": [],
   "source": [
    "# loading qrels for different DL years\n",
    "dl23_qrels = pd.read_csv(\"TREC-DLs-files/TREC-DL-2023/qrels-pass.txt\", sep=' ', header=None, names=['qid', 'Q0', 'docid', 'rel'])\n",
    "dl22_qrels = pd.read_csv(\"TREC-DLs-files/TREC-DL-2022/qrels-pass.txt\", sep=' ', header=None, names=['qid', 'Q0', 'docid', 'rel'])\n",
    "dl21_qrels = pd.read_csv(\"TREC-DLs-files/TREC-DL-2021/qrels-pass.txt\", sep=' ', header=None, names=['qid', 'Q0', 'docid', 'rel'])\n",
    "dl20_qrels = pd.read_csv(\"TREC-DLs-files/TREC-DL-2020/qrels-pass.txt\", sep=' ', header=None, names=['qid', 'Q0', 'docid', 'rel'])\n",
    "dl19_qrels = pd.read_csv(\"TREC-DLs-files/TREC-DL-2019/qrels-pass.txt\", sep=' ', header=None, names=['qid', 'Q0', 'docid', 'rel'])"
   ]
  },
  {
   "cell_type": "markdown",
   "metadata": {},
   "source": [
    "### Loading runs on NIST qrels "
   ]
  },
  {
   "cell_type": "code",
   "execution_count": 409,
   "metadata": {},
   "outputs": [],
   "source": [
    "# Loading results on NIST qrel for specific year of DL\n",
    "nist_labels_result = pd.read_csv(full_nist_result_file, sep='\\t', header=None, names=['run_id', 'metric', 'qid', 'score'])\n",
    "nist_labels_result = nist_labels_result[nist_labels_result['qid'] != 'all']\n",
    "nist_labels_result['qid'] = nist_labels_result['qid'].astype(int)\n",
    "nist_labels_result = nist_labels_result[(nist_labels_result['metric'] == metric)]\n",
    "nist_labels_result['score'] = nist_labels_result['score'].astype('float64')\n",
    "\n",
    "track_queries_nist_labels = nist_labels_result[(nist_labels_result['metric'] == metric)].groupby('run_id')['score'].agg(['mean', 'count']).reset_index()\n",
    "track_queries_nist_labels = track_queries_nist_labels.rename(columns={'mean':metric})\n",
    "runid_to_score_track_nist = dict(zip(track_queries_nist_labels['run_id'], track_queries_nist_labels[metric]))"
   ]
  },
  {
   "cell_type": "code",
   "execution_count": 410,
   "metadata": {},
   "outputs": [
    {
     "data": {
      "text/html": [
       "<div>\n",
       "<style scoped>\n",
       "    .dataframe tbody tr th:only-of-type {\n",
       "        vertical-align: middle;\n",
       "    }\n",
       "\n",
       "    .dataframe tbody tr th {\n",
       "        vertical-align: top;\n",
       "    }\n",
       "\n",
       "    .dataframe thead th {\n",
       "        text-align: right;\n",
       "    }\n",
       "</style>\n",
       "<table border=\"1\" class=\"dataframe\">\n",
       "  <thead>\n",
       "    <tr style=\"text-align: right;\">\n",
       "      <th></th>\n",
       "      <th>run_id</th>\n",
       "      <th>metric</th>\n",
       "      <th>qid</th>\n",
       "      <th>score</th>\n",
       "    </tr>\n",
       "  </thead>\n",
       "  <tbody>\n",
       "    <tr>\n",
       "      <th>6</th>\n",
       "      <td>srchvrs_p_bm25f</td>\n",
       "      <td>ndcg_cut_100</td>\n",
       "      <td>2000511</td>\n",
       "      <td>0.3352</td>\n",
       "    </tr>\n",
       "    <tr>\n",
       "      <th>16</th>\n",
       "      <td>srchvrs_p_bm25f</td>\n",
       "      <td>ndcg_cut_100</td>\n",
       "      <td>2000719</td>\n",
       "      <td>0.2325</td>\n",
       "    </tr>\n",
       "    <tr>\n",
       "      <th>26</th>\n",
       "      <td>srchvrs_p_bm25f</td>\n",
       "      <td>ndcg_cut_100</td>\n",
       "      <td>2001532</td>\n",
       "      <td>0.2562</td>\n",
       "    </tr>\n",
       "    <tr>\n",
       "      <th>36</th>\n",
       "      <td>srchvrs_p_bm25f</td>\n",
       "      <td>ndcg_cut_100</td>\n",
       "      <td>2001908</td>\n",
       "      <td>0.1986</td>\n",
       "    </tr>\n",
       "    <tr>\n",
       "      <th>46</th>\n",
       "      <td>srchvrs_p_bm25f</td>\n",
       "      <td>ndcg_cut_100</td>\n",
       "      <td>2001975</td>\n",
       "      <td>0.2020</td>\n",
       "    </tr>\n",
       "    <tr>\n",
       "      <th>...</th>\n",
       "      <td>...</td>\n",
       "      <td>...</td>\n",
       "      <td>...</td>\n",
       "      <td>...</td>\n",
       "    </tr>\n",
       "    <tr>\n",
       "      <th>76946</th>\n",
       "      <td>pass3</td>\n",
       "      <td>ndcg_cut_100</td>\n",
       "      <td>2055480</td>\n",
       "      <td>0.7295</td>\n",
       "    </tr>\n",
       "    <tr>\n",
       "      <th>76956</th>\n",
       "      <td>pass3</td>\n",
       "      <td>ndcg_cut_100</td>\n",
       "      <td>2055634</td>\n",
       "      <td>0.7238</td>\n",
       "    </tr>\n",
       "    <tr>\n",
       "      <th>76966</th>\n",
       "      <td>pass3</td>\n",
       "      <td>ndcg_cut_100</td>\n",
       "      <td>2055795</td>\n",
       "      <td>0.5634</td>\n",
       "    </tr>\n",
       "    <tr>\n",
       "      <th>76976</th>\n",
       "      <td>pass3</td>\n",
       "      <td>ndcg_cut_100</td>\n",
       "      <td>2056158</td>\n",
       "      <td>0.6018</td>\n",
       "    </tr>\n",
       "    <tr>\n",
       "      <th>76986</th>\n",
       "      <td>pass3</td>\n",
       "      <td>ndcg_cut_100</td>\n",
       "      <td>2056323</td>\n",
       "      <td>0.6204</td>\n",
       "    </tr>\n",
       "  </tbody>\n",
       "</table>\n",
       "<p>7600 rows × 4 columns</p>\n",
       "</div>"
      ],
      "text/plain": [
       "                run_id        metric      qid   score\n",
       "6      srchvrs_p_bm25f  ndcg_cut_100  2000511  0.3352\n",
       "16     srchvrs_p_bm25f  ndcg_cut_100  2000719  0.2325\n",
       "26     srchvrs_p_bm25f  ndcg_cut_100  2001532  0.2562\n",
       "36     srchvrs_p_bm25f  ndcg_cut_100  2001908  0.1986\n",
       "46     srchvrs_p_bm25f  ndcg_cut_100  2001975  0.2020\n",
       "...                ...           ...      ...     ...\n",
       "76946            pass3  ndcg_cut_100  2055480  0.7295\n",
       "76956            pass3  ndcg_cut_100  2055634  0.7238\n",
       "76966            pass3  ndcg_cut_100  2055795  0.5634\n",
       "76976            pass3  ndcg_cut_100  2056158  0.6018\n",
       "76986            pass3  ndcg_cut_100  2056323  0.6204\n",
       "\n",
       "[7600 rows x 4 columns]"
      ]
     },
     "execution_count": 410,
     "metadata": {},
     "output_type": "execute_result"
    }
   ],
   "source": [
    "nist_labels_result"
   ]
  },
  {
   "cell_type": "code",
   "execution_count": 411,
   "metadata": {},
   "outputs": [
    {
     "name": "stdout",
     "output_type": "stream",
     "text": [
      "36\n"
     ]
    }
   ],
   "source": [
    "# removing the runs that are for reranking task (4 runs for reranking) -> 39 runs will be remain\n",
    "included_runids = metadata_models_df[metadata_models_df['subtask'] == task]['run_id']\n",
    "print(len(set(included_runids)))\n",
    "\n",
    "# We have {'D_bm25_splades', 'D_naverloo-frgpt4', 'D_naverloo_bm25_RR', 'D_naverloo_bm_splade_RR', 'colbertv2'}\n",
    "# runs that have not submitted their results. So, we have 40 run_ids in metadata file in total, the rerank ones (4 runs) \n",
    "# are rmeoved from the list using the above command. Then, 36 runs we have, in whiche 5 submissions are have not submitteed their reuslt\n",
    "# so we will have 31 submissions in total.\n",
    "\n",
    "# nist_labels_result = nist_labels_result[nist_labels_result['run_id'].isin(included_runids)]\n",
    "# print(len(set(nist_labels_result['run_id'])))\n",
    "\n",
    "nist_labels_result = nist_labels_result[nist_labels_result['qid'] != 'all']\n",
    "nist_labels_result['qid'] = nist_labels_result['qid'].astype(int)\n",
    "nist_labels_result = nist_labels_result[(nist_labels_result['metric'] == metric)]\n",
    "nist_labels_result['score'] = nist_labels_result['score'].astype('float64')"
   ]
  },
  {
   "cell_type": "code",
   "execution_count": 412,
   "metadata": {},
   "outputs": [],
   "source": [
    "track_queries_nist_labels = nist_labels_result[(nist_labels_result['metric'] == metric) & (nist_labels_result['qid'].isin(queries_judged))].groupby('run_id')['score'].agg(['mean', 'count']).reset_index()\n",
    "track_queries_nist_labels = track_queries_nist_labels.rename(columns={'mean':metric})\n",
    "runid_to_score_track_nist = dict(zip(track_queries_nist_labels['run_id'], track_queries_nist_labels[metric]))\n",
    "\n",
    "generated_queries_nist_labels = nist_labels_result[(nist_labels_result['metric'] == metric) & ((nist_labels_result['qid'].isin(t5_queries_judged)) | ((nist_labels_result['qid'].isin(gpt4_queries_judged)))) ].groupby('run_id')['score'].agg(['mean', 'count']).reset_index()\n",
    "generated_queries_nist_labels = generated_queries_nist_labels.rename(columns={'mean':metric})\n",
    "runid_to_score_generated_nist = dict(zip(generated_queries_nist_labels['run_id'], generated_queries_nist_labels[metric]))\n",
    "\n",
    "real_queries_nist_labels = nist_labels_result[(nist_labels_result['metric'] == metric) & (nist_labels_result['qid'].isin(real_queries_judged))].groupby('run_id')['score'].agg(['mean', 'count']).reset_index()\n",
    "real_queries_nist_labels = real_queries_nist_labels.rename(columns={'mean':metric})\n",
    "runid_to_score_real_nist = dict(zip(real_queries_nist_labels['run_id'], real_queries_nist_labels[metric]))\n",
    "\n",
    "t5_queries_nist_labels = nist_labels_result[(nist_labels_result['metric'] == metric) & (nist_labels_result['qid'].isin(t5_queries_judged))].groupby('run_id')['score'].agg(['mean', 'count']).reset_index()\n",
    "t5_queries_nist_labels = t5_queries_nist_labels.rename(columns={'mean':metric})\n",
    "runid_to_score_t5_nist = dict(zip(t5_queries_nist_labels['run_id'], t5_queries_nist_labels[metric]))\n",
    "\n",
    "gpt4_queries_nist_labels = nist_labels_result[(nist_labels_result['metric'] == metric) & (nist_labels_result['qid'].isin(gpt4_queries_judged))].groupby('run_id')['score'].agg(['mean', 'count']).reset_index()\n",
    "gpt4_queries_nist_labels = gpt4_queries_nist_labels.rename(columns={'mean':metric})\n",
    "runid_to_score_gpt4_nist = dict(zip(gpt4_queries_nist_labels['run_id'], gpt4_queries_nist_labels[metric]))"
   ]
  },
  {
   "cell_type": "markdown",
   "metadata": {},
   "source": [
    "### Loading runs results on Resource qrels "
   ]
  },
  {
   "cell_type": "code",
   "execution_count": 413,
   "metadata": {},
   "outputs": [],
   "source": [
    "gpt4_labels_result = pd.read_csv(full_resource_result_file, sep='\\t', header=None, names=['run_id', 'metric', 'qid', 'score'])\n",
    "gpt4_labels_result.head()\n",
    "\n",
    "gpt4_labels_result = gpt4_labels_result[gpt4_labels_result['qid'] != 'all']\n",
    "gpt4_labels_result['qid'] = gpt4_labels_result['qid'].astype(int)\n",
    "gpt4_labels_result = gpt4_labels_result[(gpt4_labels_result['metric'] == metric)]\n",
    "gpt4_labels_result['score'] = gpt4_labels_result['score'].astype('float64')\n",
    "\n",
    "track_queries_gpt4_labels = gpt4_labels_result[(gpt4_labels_result['metric'] == metric)].groupby('run_id')['score'].agg(['mean', 'count']).reset_index()\n",
    "track_queries_gpt4_labels = track_queries_gpt4_labels.rename(columns={'mean':metric})\n",
    "runid_to_score_track_gpt4 = dict(zip(track_queries_gpt4_labels['run_id'], track_queries_gpt4_labels[metric]))"
   ]
  },
  {
   "cell_type": "markdown",
   "metadata": {},
   "source": [
    "### Loading Configs"
   ]
  },
  {
   "cell_type": "code",
   "execution_count": 414,
   "metadata": {},
   "outputs": [],
   "source": [
    "# loading the metadata and assigning LLM tag based on the pipeline of each run\n",
    "run_to_model = {}\n",
    "# red: gpt, yellow: t5, orange: gpt+t5, and blue: everything else\n",
    "for eachline in metadata_models_df.itertuples(index=True):\n",
    "    # if we have both T5 and GPT version in the pipeline\n",
    "    if 'T5' in eachline.LLM and 'GPT' in eachline.LLM:\n",
    "        run_to_model[eachline.run_id] = 'GPT+T5'\n",
    "    elif 'GPT' in eachline.LLM:\n",
    "        run_to_model[eachline.run_id] = 'GPT'\n",
    "    elif 'T5' in eachline.LLM:\n",
    "        run_to_model[eachline.run_id] = 'T5'\n",
    "    else:\n",
    "        run_to_model[eachline.run_id] = 'Others'"
   ]
  },
  {
   "cell_type": "code",
   "execution_count": 415,
   "metadata": {},
   "outputs": [],
   "source": [
    "def get_merged_df(dict_1, dict_2):\n",
    "\n",
    "    # Convert dictionaries to DataFrames\n",
    "    df1 = pd.DataFrame(list(dict_1.items()), columns=['Key', 'Value1'])\n",
    "    df2 = pd.DataFrame(list(dict_2.items()), columns=['Key', 'Value2'])\n",
    "\n",
    "    # Merge the DataFrames based on the 'Key' column\n",
    "    merged_df = pd.merge(df1, df2, on='Key', how='outer')\n",
    "\n",
    "    return merged_df"
   ]
  },
  {
   "cell_type": "code",
   "execution_count": 416,
   "metadata": {},
   "outputs": [],
   "source": [
    "model_to_color = {'GPT': 'red', 'T5': 'brown', 'GPT+T5': 'orange', 'Others': 'green'}\n",
    "model_to_marker = {'GPT': 'x', 'T5': '|', 'GPT+T5': '+', 'Others': '.'}"
   ]
  },
  {
   "cell_type": "markdown",
   "metadata": {},
   "source": [
    "## 3. Generating Plots for Various Types of Analysis"
   ]
  },
  {
   "cell_type": "code",
   "execution_count": 417,
   "metadata": {},
   "outputs": [],
   "source": [
    "def get_plot(x_avg_scores, y_avg_scores, query_types=['track', 'real'], label_types=['NIST', 'NIST']):\n",
    "\n",
    "    # splitting query types\n",
    "    query_type_x = query_types[0]\n",
    "    query_type_y = query_types[1]\n",
    "\n",
    "    # splitting query types\n",
    "    label_type_x = label_types[0]\n",
    "    label_type_y = label_types[1]\n",
    "\n",
    "    # if label_type_x == 'Sparse':\n",
    "    #     metric_type_x = f\"NDCG@{cut_off}\"\n",
    "    # else:\n",
    "    #     metric_type_x = f\"NDCG@{cut_off}\"\n",
    "\n",
    "    # if label_type_y == 'Sparse':\n",
    "    #     metric_type_y = f\"NDCG@{cut_off}\"\n",
    "    # else:\n",
    "    #     metric_type_y = f\"NDCG@{cut_off}\"\n",
    "\n",
    "    merged_df = get_merged_df(x_avg_scores, y_avg_scores)\n",
    "\n",
    "    for eachline in merged_df.itertuples(index=True):\n",
    "        run_model = run_to_model[eachline.Key]\n",
    "        model_color = model_to_color[run_model]\n",
    "        model_marker = model_to_marker[run_model]\n",
    "        plt.scatter(eachline.Value1, eachline.Value2, c=f\"{model_color}\", marker=f\"{model_marker}\", label=f\"{run_model}\", s=70)\n",
    "\n",
    "    if label_type_x != 'Sparse' and label_type_y != 'Sparse':\n",
    "        # axes\n",
    "        ax = plt.gca()\n",
    "        lims = [\n",
    "            np.min([ax.get_xlim(), ax.get_ylim()]),  # min of both axes\n",
    "            np.max([ax.get_xlim(), ax.get_ylim()]),  # max of both axes\n",
    "            ]\n",
    "        \n",
    "        # now plot both limits against eachother\n",
    "        ax.plot(lims, lims, color='blue', linestyle='dashed', linewidth=0.7)\n",
    "    \n",
    "    tau, p_value = stats.kendalltau(merged_df['Value1'], merged_df['Value2'])\n",
    "\n",
    "    #adding tau inside the plot \n",
    "    plt.annotate(r'Kendall $\\tau$ = %s' %np.round(tau, 4), xy=(0.03, 0.9), xycoords='axes fraction', fontsize=14)\n",
    "    \n",
    "    # plt.xlabel(f'{metric_type_x} on {query_type_x} queries ({label_type_x} Qrel)', fontsize=10)\n",
    "    # plt.ylabel(f'{metric_type_y} on {query_type_y} queries ({label_type_y} Qrel)', fontsize=10)\n",
    "\n",
    "    # plt.xlabel(f'{plot_metric} ({query_type_x}, {label_type_x} Judgments)', fontsize=13)\n",
    "    # plt.ylabel(f'{plot_metric} ({query_type_y}, {label_type_y} Judgments)', fontsize=13)\n",
    "\n",
    "    plt.xlabel(f'{plot_metric} ({query_type_x})', fontsize=16)\n",
    "    plt.ylabel(f'{plot_metric} ({query_type_y})', fontsize=16)\n",
    "\n",
    "    handles, labels = plt.gca().get_legend_handles_labels()\n",
    "    by_label = dict(zip(labels, handles))\n",
    "    plt.legend(by_label.values(), by_label.keys(), edgecolor='black', fontsize=13, loc = \"lower right\")\n",
    "\n",
    "    plt.xticks(fontsize=13)\n",
    "    plt.yticks(fontsize=13)\n",
    "\n",
    "    # plt.show()\n",
    "\n",
    "    plt.savefig(f\"figs/results/{dl_year}_{plot_metric}_colored.pdf\", bbox_inches='tight')"
   ]
  },
  {
   "cell_type": "code",
   "execution_count": 418,
   "metadata": {},
   "outputs": [],
   "source": [
    "def get_plot_simple(x_avg_scores, y_avg_scores, query_types=['track', 'real'], label_types=['NIST', 'NIST']):\n",
    "\n",
    "    # splitting query types\n",
    "    query_type_x = query_types[0]\n",
    "    query_type_y = query_types[1]\n",
    "\n",
    "    merged_df = get_merged_df(x_avg_scores, y_avg_scores)\n",
    "\n",
    "    for eachline in merged_df.itertuples(index=True):\n",
    "        plt.scatter(eachline.Value1, eachline.Value2, c='black')\n",
    "\n",
    "    ax = plt.gca()\n",
    "    lims = [\n",
    "        np.min([ax.get_xlim(), ax.get_ylim()]),  # min of both axes\n",
    "        np.max([ax.get_xlim(), ax.get_ylim()]),  # max of both axes\n",
    "        ]\n",
    "        \n",
    "    # now plot both limits against eachother\n",
    "    ax.plot(lims, lims, color='black', linestyle='dashed', linewidth=0.7)\n",
    "    \n",
    "    tau, p_value = stats.kendalltau(merged_df['Value1'], merged_df['Value2'])\n",
    "\n",
    "    #adding tau inside the plot \n",
    "    plt.annotate(r'Kendall $\\tau$ = %s' %np.round(tau, 4), xy=(0.03, 0.9), xycoords='axes fraction', fontsize=16)\n",
    "\n",
    "    plt.xlabel(f'{plot_metric} ({query_type_x})', fontsize=16)\n",
    "    plt.ylabel(f'{plot_metric} ({query_type_y})', fontsize=16)\n",
    "\n",
    "    plt.xticks(fontsize=13)\n",
    "    plt.yticks(fontsize=13)\n",
    "\n",
    "    # plt.show()\n",
    "\n",
    "    plt.savefig(f\"figs/results//{dl_year}_{plot_metric}_black.pdf\", bbox_inches='tight')"
   ]
  },
  {
   "cell_type": "markdown",
   "metadata": {},
   "source": [
    "### 3.1 Generating Query Analysis Plots (Synthetic Query Analysis -- NIST Qrels)"
   ]
  },
  {
   "cell_type": "code",
   "execution_count": 419,
   "metadata": {},
   "outputs": [
    {
     "data": {
      "image/png": "[encoded data removed]",
      "text/plain": [
       "<Figure size 640x480 with 1 Axes>"
      ]
     },
     "metadata": {},
     "output_type": "display_data"
    }
   ],
   "source": [
    "get_plot_simple(runid_to_score_track_nist, runid_to_score_track_gpt4, query_types=[f'DL-{year}', 'SynDL'], label_types=['Human', 'GPT-4'])"
   ]
  },
  {
   "cell_type": "code",
   "execution_count": 420,
   "metadata": {},
   "outputs": [],
   "source": [
    "# get_plot(runid_to_score_track_nist, runid_to_score_track_gpt4, query_types=[f'DL-{year}', 'SynDL'], label_types=['Human', 'GPT-4'])"
   ]
  },
  {
   "cell_type": "code",
   "execution_count": null,
   "metadata": {},
   "outputs": [],
   "source": []
  },
  {
   "cell_type": "code",
   "execution_count": null,
   "metadata": {},
   "outputs": [],
   "source": []
  }
 ],
 "metadata": {
  "kernelspec": {
   "display_name": "Python 3",
   "language": "python",
   "name": "python3"
  },
  "language_info": {
   "codemirror_mode": {
    "name": "ipython",
    "version": 3
   },
   "file_extension": ".py",
   "mimetype": "text/x-python",
   "name": "python",
   "nbconvert_exporter": "python",
   "pygments_lexer": "ipython3",
   "version": "3.9.6"
  }
 },
 "nbformat": 4,
 "nbformat_minor": 2
}

{
 "cells": [
  {
   "cell_type": "markdown",
   "metadata": {},
   "source": [
    "# Resource System Ordering Analysis"
   ]
  },
  {
   "cell_type": "code",
   "execution_count": 1,
   "metadata": {},
   "outputs": [],
   "source": [
    "import pandas as pd\n",
    "import matplotlib.pyplot as plt\n",
    "import scipy.stats as stats\n",
    "import numpy as np\n",
    "import csv\n",
    "import glob\n",
    "import os"
   ]
  },
  {
   "cell_type": "markdown",
   "metadata": {},
   "source": [
    "## Experiment Config"
   ]
  },
  {
   "cell_type": "code",
   "execution_count": 2,
   "metadata": {},
   "outputs": [],
   "source": [
    "def create_folder(folder):\n",
    "    if not os.path.exists(f'figs/{folder}'):\n",
    "        os.mkdir(f'figs/{folder}')  \n",
    "        print(\"Directory '% s' created\" % folder)"
   ]
  },
  {
   "cell_type": "code",
   "execution_count": 3,
   "metadata": {},
   "outputs": [
    {
     "name": "stdout",
     "output_type": "stream",
     "text": [
      "NDCG@10\n"
     ]
    }
   ],
   "source": [
    "# Parameters configuration\n",
    "task = 'fullrank'\n",
    "metric =  'ndcg_cut_10' # 'map' or 'ndcg_cut_1000'\n",
    "\n",
    "# create plots folder\n",
    "# create_folder(folder=metric)\n",
    "\n",
    "# This snipp code should be updated later.\n",
    "if '_' in metric:\n",
    "    cut_off = metric.split('_')[2] # '1000'\n",
    "    plot_metric = metric.split('_')[0].upper()\n",
    "    plot_metric = plot_metric + '@' + cut_off\n",
    "else:\n",
    "    cut_off = ''\n",
    "    plot_metric = metric.upper()\n",
    "\n",
    "print(plot_metric)"
   ]
  },
  {
   "cell_type": "code",
   "execution_count": 4,
   "metadata": {},
   "outputs": [],
   "source": [
    "# version = 'final'\n",
    "result_format = 'ndcgeval' # 'treceval' or 'ndcgeval'\n",
    "# File path\n",
    "metadata_file = '../metadata'\n",
    "# year = \"DL-20\"\n",
    "year = \"2023\"\n",
    "dl_year = \"dl\"+year"
   ]
  },
  {
   "cell_type": "code",
   "execution_count": 42,
   "metadata": {},
   "outputs": [],
   "source": [
    "# TREC DL Past Years\n",
    "nist_qrel_file = f\"{dl_year}/{year}qrels-pass.txt\"\n",
    "full_nist_result_file = f'all.pass.{dl_year}.{result_format}'\n",
    "full_resource_result_file = f'all.pass.{dl_year}.resource-gpt4-v2.{result_format}'"
   ]
  },
  {
   "cell_type": "markdown",
   "metadata": {},
   "source": [
    "## Loading metadata\n",
    "Loading the metadata file to create a dictionary of runid to subtask, loading the metadata_models file to have the pipeline structure, adding the subtask info to metadata models dataframe"
   ]
  },
  {
   "cell_type": "code",
   "execution_count": 22,
   "metadata": {},
   "outputs": [],
   "source": [
    "runid_to_subtasks = dict()\n",
    "with open(metadata_file, 'rt', encoding = 'utf8') as f:\n",
    "    reader = csv.reader(f, delimiter = ':')\n",
    "    for [runid, group, _, _, _, _, maintask, _, subtask, _, _, _, _, model, _, _, _, _] in reader:\n",
    "        runid_to_subtasks[runid] = subtask.split('-')[0]"
   ]
  },
  {
   "cell_type": "code",
   "execution_count": 23,
   "metadata": {},
   "outputs": [
    {
     "data": {
      "text/html": [
       "<div>\n",
       "<style scoped>\n",
       "    .dataframe tbody tr th:only-of-type {\n",
       "        vertical-align: middle;\n",
       "    }\n",
       "\n",
       "    .dataframe tbody tr th {\n",
       "        vertical-align: top;\n",
       "    }\n",
       "\n",
       "    .dataframe thead th {\n",
       "        text-align: right;\n",
       "    }\n",
       "</style>\n",
       "<table border=\"1\" class=\"dataframe\">\n",
       "  <thead>\n",
       "    <tr style=\"text-align: right;\">\n",
       "      <th></th>\n",
       "      <th>run_id</th>\n",
       "      <th>LLM</th>\n",
       "      <th>pipeline</th>\n",
       "    </tr>\n",
       "  </thead>\n",
       "  <tbody>\n",
       "    <tr>\n",
       "      <th>0</th>\n",
       "      <td>colbertv2</td>\n",
       "      <td>-</td>\n",
       "      <td>Colbert-v2 and using pre-trained checkpoint an...</td>\n",
       "    </tr>\n",
       "    <tr>\n",
       "      <th>1</th>\n",
       "      <td>cip_run_7</td>\n",
       "      <td>MonoT5/GPT-3.5</td>\n",
       "      <td>Unicoil+doct5query (pyserini)%0A2. MonoT5-3b (...</td>\n",
       "    </tr>\n",
       "    <tr>\n",
       "      <th>2</th>\n",
       "      <td>cip_run_1</td>\n",
       "      <td>MonoT5/GPT-3.5/GPT-4</td>\n",
       "      <td>Unicoil+doct5query (pyserini)%0A2. MonoT5-3b (...</td>\n",
       "    </tr>\n",
       "    <tr>\n",
       "      <th>3</th>\n",
       "      <td>cip_run_2</td>\n",
       "      <td>MonoT5/GPT-3.5/GPT-4</td>\n",
       "      <td>Unicoil+doct5query (pyserini)%0A2. MonoT5-3b (...</td>\n",
       "    </tr>\n",
       "    <tr>\n",
       "      <th>4</th>\n",
       "      <td>cip_run_3</td>\n",
       "      <td>MonoT5/GPT-3.5</td>\n",
       "      <td>Unicoil+doct5query (pyserini)%0A2. MonoT5-3b (...</td>\n",
       "    </tr>\n",
       "  </tbody>\n",
       "</table>\n",
       "</div>"
      ],
      "text/plain": [
       "      run_id                   LLM  \\\n",
       "0  colbertv2                     -   \n",
       "1  cip_run_7        MonoT5/GPT-3.5   \n",
       "2  cip_run_1  MonoT5/GPT-3.5/GPT-4   \n",
       "3  cip_run_2  MonoT5/GPT-3.5/GPT-4   \n",
       "4  cip_run_3        MonoT5/GPT-3.5   \n",
       "\n",
       "                                            pipeline  \n",
       "0  Colbert-v2 and using pre-trained checkpoint an...  \n",
       "1  Unicoil+doct5query (pyserini)%0A2. MonoT5-3b (...  \n",
       "2  Unicoil+doct5query (pyserini)%0A2. MonoT5-3b (...  \n",
       "3  Unicoil+doct5query (pyserini)%0A2. MonoT5-3b (...  \n",
       "4  Unicoil+doct5query (pyserini)%0A2. MonoT5-3b (...  "
      ]
     },
     "execution_count": 23,
     "metadata": {},
     "output_type": "execute_result"
    }
   ],
   "source": [
    "# loading metadeta infomrmaiton for runs, we have the type of pipeline as a metadata here\n",
    "metadata_models_df = pd.read_csv('../metadata_models.csv', sep=\"\\t\")\n",
    "metadata_models_df.head()"
   ]
  },
  {
   "cell_type": "code",
   "execution_count": 24,
   "metadata": {},
   "outputs": [
    {
     "data": {
      "text/html": [
       "<div>\n",
       "<style scoped>\n",
       "    .dataframe tbody tr th:only-of-type {\n",
       "        vertical-align: middle;\n",
       "    }\n",
       "\n",
       "    .dataframe tbody tr th {\n",
       "        vertical-align: top;\n",
       "    }\n",
       "\n",
       "    .dataframe thead th {\n",
       "        text-align: right;\n",
       "    }\n",
       "</style>\n",
       "<table border=\"1\" class=\"dataframe\">\n",
       "  <thead>\n",
       "    <tr style=\"text-align: right;\">\n",
       "      <th></th>\n",
       "      <th>run_id</th>\n",
       "      <th>LLM</th>\n",
       "      <th>pipeline</th>\n",
       "      <th>subtask</th>\n",
       "    </tr>\n",
       "  </thead>\n",
       "  <tbody>\n",
       "    <tr>\n",
       "      <th>0</th>\n",
       "      <td>colbertv2</td>\n",
       "      <td>-</td>\n",
       "      <td>Colbert-v2 and using pre-trained checkpoint an...</td>\n",
       "      <td>fullrank</td>\n",
       "    </tr>\n",
       "    <tr>\n",
       "      <th>1</th>\n",
       "      <td>cip_run_7</td>\n",
       "      <td>MonoT5/GPT-3.5</td>\n",
       "      <td>Unicoil+doct5query (pyserini)%0A2. MonoT5-3b (...</td>\n",
       "      <td>fullrank</td>\n",
       "    </tr>\n",
       "    <tr>\n",
       "      <th>2</th>\n",
       "      <td>cip_run_1</td>\n",
       "      <td>MonoT5/GPT-3.5/GPT-4</td>\n",
       "      <td>Unicoil+doct5query (pyserini)%0A2. MonoT5-3b (...</td>\n",
       "      <td>fullrank</td>\n",
       "    </tr>\n",
       "    <tr>\n",
       "      <th>3</th>\n",
       "      <td>cip_run_2</td>\n",
       "      <td>MonoT5/GPT-3.5/GPT-4</td>\n",
       "      <td>Unicoil+doct5query (pyserini)%0A2. MonoT5-3b (...</td>\n",
       "      <td>fullrank</td>\n",
       "    </tr>\n",
       "    <tr>\n",
       "      <th>4</th>\n",
       "      <td>cip_run_3</td>\n",
       "      <td>MonoT5/GPT-3.5</td>\n",
       "      <td>Unicoil+doct5query (pyserini)%0A2. MonoT5-3b (...</td>\n",
       "      <td>fullrank</td>\n",
       "    </tr>\n",
       "    <tr>\n",
       "      <th>5</th>\n",
       "      <td>cip_run_4</td>\n",
       "      <td>MonoT5/GPT-3.5</td>\n",
       "      <td>Unicoil+doct5query (pyserini)%0A2. MonoT5-3b (...</td>\n",
       "      <td>fullrank</td>\n",
       "    </tr>\n",
       "    <tr>\n",
       "      <th>6</th>\n",
       "      <td>cip_run_5</td>\n",
       "      <td>MonoT5/GPT-3.5</td>\n",
       "      <td>Unicoil+doct5query (pyserini)%0A2. MonoT5-3b (...</td>\n",
       "      <td>fullrank</td>\n",
       "    </tr>\n",
       "    <tr>\n",
       "      <th>7</th>\n",
       "      <td>cip_run_6</td>\n",
       "      <td>MonoT5/GPT-3.5</td>\n",
       "      <td>Unicoil+doct5query (pyserini)%0A2. MonoT5-3b (...</td>\n",
       "      <td>fullrank</td>\n",
       "    </tr>\n",
       "    <tr>\n",
       "      <th>8</th>\n",
       "      <td>agg-cocondenser</td>\n",
       "      <td>-</td>\n",
       "      <td>Aggretriever is a dense retriever with semanti...</td>\n",
       "      <td>fullrank</td>\n",
       "    </tr>\n",
       "    <tr>\n",
       "      <th>9</th>\n",
       "      <td>slim-pp-0shot-uw</td>\n",
       "      <td>-</td>\n",
       "      <td>SPRINT-https%3A//arxiv.org/pdf/2302.06587.pdf-...</td>\n",
       "      <td>fullrank</td>\n",
       "    </tr>\n",
       "    <tr>\n",
       "      <th>10</th>\n",
       "      <td>uot-yahoo_rankgpt35</td>\n",
       "      <td>GPT-3.5</td>\n",
       "      <td>There was no fine-tuning or training of the mo...</td>\n",
       "      <td>rerank</td>\n",
       "    </tr>\n",
       "    <tr>\n",
       "      <th>11</th>\n",
       "      <td>uot-yahoo_rankgpt4</td>\n",
       "      <td>GPT-4</td>\n",
       "      <td>There was no fine-tuning or training of the mo...</td>\n",
       "      <td>rerank</td>\n",
       "    </tr>\n",
       "    <tr>\n",
       "      <th>12</th>\n",
       "      <td>uot-yahoo_LLMs-blender</td>\n",
       "      <td>GPT-3.5/GPT-4</td>\n",
       "      <td>There was no fine-tuning or training of the mo...</td>\n",
       "      <td>rerank</td>\n",
       "    </tr>\n",
       "    <tr>\n",
       "      <th>13</th>\n",
       "      <td>WatS-LLM-Rerank</td>\n",
       "      <td>Llama</td>\n",
       "      <td>Using the given top 100 passages for each quer...</td>\n",
       "      <td>rerank</td>\n",
       "    </tr>\n",
       "    <tr>\n",
       "      <th>14</th>\n",
       "      <td>naverloo_bm25_RR</td>\n",
       "      <td>RankT5</td>\n",
       "      <td>First stage is BM25, second stage is an ensemb...</td>\n",
       "      <td>fullrank</td>\n",
       "    </tr>\n",
       "    <tr>\n",
       "      <th>15</th>\n",
       "      <td>naverloo-frgpt4</td>\n",
       "      <td>T5/FlanT5/GPT-4</td>\n",
       "      <td>First stage is a very large ensemble of BM25+D...</td>\n",
       "      <td>fullrank</td>\n",
       "    </tr>\n",
       "    <tr>\n",
       "      <th>16</th>\n",
       "      <td>naverloo-rgpt4</td>\n",
       "      <td>T5/FlanT5/GPT-4</td>\n",
       "      <td>First stage is a very large ensemble of BM25+D...</td>\n",
       "      <td>fullrank</td>\n",
       "    </tr>\n",
       "    <tr>\n",
       "      <th>17</th>\n",
       "      <td>splade_pp_ensemble_distil</td>\n",
       "      <td>-</td>\n",
       "      <td>Splade++ Ensemble distil available on huggingface</td>\n",
       "      <td>fullrank</td>\n",
       "    </tr>\n",
       "    <tr>\n",
       "      <th>18</th>\n",
       "      <td>splade_pp_self_distil</td>\n",
       "      <td>-</td>\n",
       "      <td>Splade++ Self distil available on huggingface</td>\n",
       "      <td>fullrank</td>\n",
       "    </tr>\n",
       "    <tr>\n",
       "      <th>19</th>\n",
       "      <td>bm25_splades</td>\n",
       "      <td>-</td>\n",
       "      <td>Ensemble of BM25 + SPLADE++SD + SPLADE++ED</td>\n",
       "      <td>fullrank</td>\n",
       "    </tr>\n",
       "    <tr>\n",
       "      <th>20</th>\n",
       "      <td>naverloo_fs</td>\n",
       "      <td>-</td>\n",
       "      <td>Ensemble of BM25 + SPLADE++SD + SPLADE++ED + S...</td>\n",
       "      <td>fullrank</td>\n",
       "    </tr>\n",
       "    <tr>\n",
       "      <th>21</th>\n",
       "      <td>naverloo_fs_RR</td>\n",
       "      <td>RankT5</td>\n",
       "      <td>First stage is an ensemble of BM25 + SPLADE++S...</td>\n",
       "      <td>fullrank</td>\n",
       "    </tr>\n",
       "    <tr>\n",
       "      <th>22</th>\n",
       "      <td>naverloo_fs_RR_duo</td>\n",
       "      <td>T5</td>\n",
       "      <td>First stage is an ensemble of BM25 + SPLADE++S...</td>\n",
       "      <td>fullrank</td>\n",
       "    </tr>\n",
       "    <tr>\n",
       "      <th>23</th>\n",
       "      <td>naverloo_bm25_splades_RR</td>\n",
       "      <td>RankT5</td>\n",
       "      <td>First stage is an ensemble of BM25 + SPLADE++S...</td>\n",
       "      <td>fullrank</td>\n",
       "    </tr>\n",
       "    <tr>\n",
       "      <th>24</th>\n",
       "      <td>D_bm25_splades</td>\n",
       "      <td>-</td>\n",
       "      <td>Ensemble of BM25 + SPLADE++SD + SPLADE++ED</td>\n",
       "      <td>fullrank</td>\n",
       "    </tr>\n",
       "    <tr>\n",
       "      <th>25</th>\n",
       "      <td>D_naverloo-frgpt4</td>\n",
       "      <td>GPT-4</td>\n",
       "      <td>First stage is an ensemble of BM25 + SPLADE++S...</td>\n",
       "      <td>fullrank</td>\n",
       "    </tr>\n",
       "    <tr>\n",
       "      <th>26</th>\n",
       "      <td>D_naverloo_bm25_RR</td>\n",
       "      <td>T5</td>\n",
       "      <td>First stage is BM25, second stage is an ensemb...</td>\n",
       "      <td>fullrank</td>\n",
       "    </tr>\n",
       "    <tr>\n",
       "      <th>27</th>\n",
       "      <td>D_naverloo_bm_splade_RR</td>\n",
       "      <td>RankT5</td>\n",
       "      <td>First stage is BM25+SPLADE++ED+SPLADE++SD, sec...</td>\n",
       "      <td>fullrank</td>\n",
       "    </tr>\n",
       "    <tr>\n",
       "      <th>28</th>\n",
       "      <td>WatS-Augmented-BM25</td>\n",
       "      <td>GPT</td>\n",
       "      <td>Pyserini indexing the corpus.:No training.::10...</td>\n",
       "      <td>fullrank</td>\n",
       "    </tr>\n",
       "    <tr>\n",
       "      <th>29</th>\n",
       "      <td>uogtr_dph</td>\n",
       "      <td>-</td>\n",
       "      <td>Lexical indexing of msmarco-passage-v2; using ...</td>\n",
       "      <td>fullrank</td>\n",
       "    </tr>\n",
       "    <tr>\n",
       "      <th>30</th>\n",
       "      <td>uogtr_dph_bo1</td>\n",
       "      <td>-</td>\n",
       "      <td>no-trad-yes:DPH; Bo1 expansion; DPH; using CPU...</td>\n",
       "      <td>fullrank</td>\n",
       "    </tr>\n",
       "    <tr>\n",
       "      <th>31</th>\n",
       "      <td>uogtr_be</td>\n",
       "      <td>-</td>\n",
       "      <td>no-nnlm-yes:BM25; ELECTRA re-ranking; using CP...</td>\n",
       "      <td>fullrank</td>\n",
       "    </tr>\n",
       "    <tr>\n",
       "      <th>32</th>\n",
       "      <td>uogtr_se</td>\n",
       "      <td>-</td>\n",
       "      <td>SPLADE inference and indexing of msmarco-passa...</td>\n",
       "      <td>fullrank</td>\n",
       "    </tr>\n",
       "    <tr>\n",
       "      <th>33</th>\n",
       "      <td>uogtr_s</td>\n",
       "      <td>-</td>\n",
       "      <td>no-nnlm-yes:SPLADE query encoding; TF; using C...</td>\n",
       "      <td>fullrank</td>\n",
       "    </tr>\n",
       "    <tr>\n",
       "      <th>34</th>\n",
       "      <td>uogtr_se_gb</td>\n",
       "      <td>-</td>\n",
       "      <td>no-nnlm-no:SPLADE query encoding; TF, BM25 Gra...</td>\n",
       "      <td>fullrank</td>\n",
       "    </tr>\n",
       "    <tr>\n",
       "      <th>35</th>\n",
       "      <td>uogtr_be_gb</td>\n",
       "      <td>-</td>\n",
       "      <td>no-nnlm-no:BM25, BM25 Graph adaptive rerank, E...</td>\n",
       "      <td>fullrank</td>\n",
       "    </tr>\n",
       "    <tr>\n",
       "      <th>36</th>\n",
       "      <td>uogtr_qr_be_gb</td>\n",
       "      <td>FlanT5</td>\n",
       "      <td>no-prompt-no:FLANT5-XXL Generative Query Refor...</td>\n",
       "      <td>fullrank</td>\n",
       "    </tr>\n",
       "    <tr>\n",
       "      <th>37</th>\n",
       "      <td>uogtr_b_grf_e</td>\n",
       "      <td>FlanT5</td>\n",
       "      <td>no-prompt-no:BM25, FLANT5-XXL Generative Relev...</td>\n",
       "      <td>fullrank</td>\n",
       "    </tr>\n",
       "    <tr>\n",
       "      <th>38</th>\n",
       "      <td>uogtr_qr_be</td>\n",
       "      <td>FlanT5</td>\n",
       "      <td>no-prompt-no:FLANT5-XXL Generative Query Refor...</td>\n",
       "      <td>fullrank</td>\n",
       "    </tr>\n",
       "    <tr>\n",
       "      <th>39</th>\n",
       "      <td>uogtr_b_grf_e_gb</td>\n",
       "      <td>FlanT5</td>\n",
       "      <td>no-prompt-no:FLANT5-XXL Generative Query Refor...</td>\n",
       "      <td>fullrank</td>\n",
       "    </tr>\n",
       "  </tbody>\n",
       "</table>\n",
       "</div>"
      ],
      "text/plain": [
       "                       run_id                   LLM  \\\n",
       "0                   colbertv2                     -   \n",
       "1                   cip_run_7        MonoT5/GPT-3.5   \n",
       "2                   cip_run_1  MonoT5/GPT-3.5/GPT-4   \n",
       "3                   cip_run_2  MonoT5/GPT-3.5/GPT-4   \n",
       "4                   cip_run_3        MonoT5/GPT-3.5   \n",
       "5                   cip_run_4        MonoT5/GPT-3.5   \n",
       "6                   cip_run_5        MonoT5/GPT-3.5   \n",
       "7                   cip_run_6        MonoT5/GPT-3.5   \n",
       "8             agg-cocondenser                     -   \n",
       "9            slim-pp-0shot-uw                     -   \n",
       "10        uot-yahoo_rankgpt35               GPT-3.5   \n",
       "11         uot-yahoo_rankgpt4                 GPT-4   \n",
       "12     uot-yahoo_LLMs-blender         GPT-3.5/GPT-4   \n",
       "13            WatS-LLM-Rerank                 Llama   \n",
       "14           naverloo_bm25_RR                RankT5   \n",
       "15            naverloo-frgpt4       T5/FlanT5/GPT-4   \n",
       "16             naverloo-rgpt4       T5/FlanT5/GPT-4   \n",
       "17  splade_pp_ensemble_distil                     -   \n",
       "18      splade_pp_self_distil                     -   \n",
       "19               bm25_splades                     -   \n",
       "20                naverloo_fs                     -   \n",
       "21             naverloo_fs_RR                RankT5   \n",
       "22         naverloo_fs_RR_duo                    T5   \n",
       "23   naverloo_bm25_splades_RR                RankT5   \n",
       "24             D_bm25_splades                     -   \n",
       "25          D_naverloo-frgpt4                 GPT-4   \n",
       "26         D_naverloo_bm25_RR                    T5   \n",
       "27    D_naverloo_bm_splade_RR                RankT5   \n",
       "28        WatS-Augmented-BM25                   GPT   \n",
       "29                  uogtr_dph                     -   \n",
       "30              uogtr_dph_bo1                     -   \n",
       "31                   uogtr_be                     -   \n",
       "32                   uogtr_se                     -   \n",
       "33                    uogtr_s                     -   \n",
       "34                uogtr_se_gb                     -   \n",
       "35                uogtr_be_gb                     -   \n",
       "36             uogtr_qr_be_gb                FlanT5   \n",
       "37              uogtr_b_grf_e                FlanT5   \n",
       "38                uogtr_qr_be                FlanT5   \n",
       "39           uogtr_b_grf_e_gb                FlanT5   \n",
       "\n",
       "                                             pipeline   subtask  \n",
       "0   Colbert-v2 and using pre-trained checkpoint an...  fullrank  \n",
       "1   Unicoil+doct5query (pyserini)%0A2. MonoT5-3b (...  fullrank  \n",
       "2   Unicoil+doct5query (pyserini)%0A2. MonoT5-3b (...  fullrank  \n",
       "3   Unicoil+doct5query (pyserini)%0A2. MonoT5-3b (...  fullrank  \n",
       "4   Unicoil+doct5query (pyserini)%0A2. MonoT5-3b (...  fullrank  \n",
       "5   Unicoil+doct5query (pyserini)%0A2. MonoT5-3b (...  fullrank  \n",
       "6   Unicoil+doct5query (pyserini)%0A2. MonoT5-3b (...  fullrank  \n",
       "7   Unicoil+doct5query (pyserini)%0A2. MonoT5-3b (...  fullrank  \n",
       "8   Aggretriever is a dense retriever with semanti...  fullrank  \n",
       "9   SPRINT-https%3A//arxiv.org/pdf/2302.06587.pdf-...  fullrank  \n",
       "10  There was no fine-tuning or training of the mo...    rerank  \n",
       "11  There was no fine-tuning or training of the mo...    rerank  \n",
       "12  There was no fine-tuning or training of the mo...    rerank  \n",
       "13  Using the given top 100 passages for each quer...    rerank  \n",
       "14  First stage is BM25, second stage is an ensemb...  fullrank  \n",
       "15  First stage is a very large ensemble of BM25+D...  fullrank  \n",
       "16  First stage is a very large ensemble of BM25+D...  fullrank  \n",
       "17  Splade++ Ensemble distil available on huggingface  fullrank  \n",
       "18      Splade++ Self distil available on huggingface  fullrank  \n",
       "19         Ensemble of BM25 + SPLADE++SD + SPLADE++ED  fullrank  \n",
       "20  Ensemble of BM25 + SPLADE++SD + SPLADE++ED + S...  fullrank  \n",
       "21  First stage is an ensemble of BM25 + SPLADE++S...  fullrank  \n",
       "22  First stage is an ensemble of BM25 + SPLADE++S...  fullrank  \n",
       "23  First stage is an ensemble of BM25 + SPLADE++S...  fullrank  \n",
       "24         Ensemble of BM25 + SPLADE++SD + SPLADE++ED  fullrank  \n",
       "25  First stage is an ensemble of BM25 + SPLADE++S...  fullrank  \n",
       "26  First stage is BM25, second stage is an ensemb...  fullrank  \n",
       "27  First stage is BM25+SPLADE++ED+SPLADE++SD, sec...  fullrank  \n",
       "28  Pyserini indexing the corpus.:No training.::10...  fullrank  \n",
       "29  Lexical indexing of msmarco-passage-v2; using ...  fullrank  \n",
       "30  no-trad-yes:DPH; Bo1 expansion; DPH; using CPU...  fullrank  \n",
       "31  no-nnlm-yes:BM25; ELECTRA re-ranking; using CP...  fullrank  \n",
       "32  SPLADE inference and indexing of msmarco-passa...  fullrank  \n",
       "33  no-nnlm-yes:SPLADE query encoding; TF; using C...  fullrank  \n",
       "34  no-nnlm-no:SPLADE query encoding; TF, BM25 Gra...  fullrank  \n",
       "35  no-nnlm-no:BM25, BM25 Graph adaptive rerank, E...  fullrank  \n",
       "36  no-prompt-no:FLANT5-XXL Generative Query Refor...  fullrank  \n",
       "37  no-prompt-no:BM25, FLANT5-XXL Generative Relev...  fullrank  \n",
       "38  no-prompt-no:FLANT5-XXL Generative Query Refor...  fullrank  \n",
       "39  no-prompt-no:FLANT5-XXL Generative Query Refor...  fullrank  "
      ]
     },
     "execution_count": 24,
     "metadata": {},
     "output_type": "execute_result"
    }
   ],
   "source": [
    "metadata_models_df['subtask'] = metadata_models_df['run_id'].map(runid_to_subtasks)\n",
    "metadata_models_df.head(60)"
   ]
  },
  {
   "cell_type": "markdown",
   "metadata": {},
   "source": [
    "## Loading System Performance based on NIST Qrel"
   ]
  },
  {
   "cell_type": "code",
   "execution_count": 43,
   "metadata": {},
   "outputs": [
    {
     "name": "stdout",
     "output_type": "stream",
     "text": [
      "queries_judged 82\n",
      "real_queries_judged 51\n",
      "t5_queries_judged 13\n",
      "gpt4_queries_judged 18\n"
     ]
    }
   ],
   "source": [
    "nist_qrels = pd.read_csv(nist_qrel_file, sep=' ', header=None, names=['qid', 'Q0', 'docid', 'rel'])\n",
    "\n",
    "queries_judged = set(nist_qrels['qid'])\n",
    "\n",
    "real_queries_judged = [x for x in queries_judged if x < 3000000]\n",
    "t5_queries_judged = [x for x in queries_judged if x > 3000000 and x < 3100000]\n",
    "gpt4_queries_judged = [x for x in queries_judged if x > 3100000]\n",
    "\n",
    "print('queries_judged', len(queries_judged))\n",
    "print('real_queries_judged', len(real_queries_judged))\n",
    "print('t5_queries_judged', len(t5_queries_judged))\n",
    "print('gpt4_queries_judged', len(gpt4_queries_judged))"
   ]
  },
  {
   "cell_type": "code",
   "execution_count": 14,
   "metadata": {},
   "outputs": [
    {
     "name": "stdout",
     "output_type": "stream",
     "text": [
      "22327\n",
      "13866\n",
      "4372\n",
      "2259\n",
      "1830\n"
     ]
    }
   ],
   "source": [
    "print(len(nist_qrels['rel']))\n",
    "print(len([x for x in nist_qrels['rel'] if x == 0]))\n",
    "print(len([x for x in nist_qrels['rel'] if x == 1]))\n",
    "print(len([x for x in nist_qrels['rel'] if x == 2]))\n",
    "print(len([x for x in nist_qrels['rel'] if x == 3]))"
   ]
  },
  {
   "cell_type": "code",
   "execution_count": 15,
   "metadata": {},
   "outputs": [],
   "source": [
    "dl23_qrels = pd.read_csv(\"dl2023/2023qrels-pass.txt\", sep=' ', header=None, names=['qid', 'Q0', 'docid', 'rel'])\n",
    "dl22_qrels = pd.read_csv(\"dl2022/2022qrels-pass.txt\", sep=' ', header=None, names=['qid', 'Q0', 'docid', 'rel'])\n",
    "dl21_qrels = pd.read_csv(\"dl2021/2021qrels-pass.txt\", sep=' ', header=None, names=['qid', 'Q0', 'docid', 'rel'])\n",
    "dl20_qrels = pd.read_csv(\"dl2020/2020qrels-pass.txt\", sep=' ', header=None, names=['qid', 'Q0', 'docid', 'rel'])\n",
    "dl19_qrels = pd.read_csv(\"dl2019/2019qrels-pass.txt\", sep=' ', header=None, names=['qid', 'Q0', 'docid', 'rel'])"
   ]
  },
  {
   "cell_type": "markdown",
   "metadata": {},
   "source": [
    "### Loading runs ndcgecal on NIST qrels "
   ]
  },
  {
   "cell_type": "code",
   "execution_count": 48,
   "metadata": {},
   "outputs": [],
   "source": [
    "# TREC DL 2019\n",
    "nist_labels_result = pd.read_csv(full_nist_result_file, sep='\\t', header=None, names=['run_id', 'metric', 'qid', 'score'])\n",
    "nist_labels_result = nist_labels_result[nist_labels_result['qid'] != 'all']\n",
    "nist_labels_result['qid'] = nist_labels_result['qid'].astype(int)\n",
    "nist_labels_result = nist_labels_result[(nist_labels_result['metric'] == metric)]\n",
    "nist_labels_result['score'] = nist_labels_result['score'].astype('float64')\n",
    "\n",
    "track_queries_nist_labels = nist_labels_result[(nist_labels_result['metric'] == metric)].groupby('run_id')['score'].agg(['mean', 'count']).reset_index()\n",
    "track_queries_nist_labels = track_queries_nist_labels.rename(columns={'mean':metric})\n",
    "runid_to_score_track_nist = dict(zip(track_queries_nist_labels['run_id'], track_queries_nist_labels[metric]))"
   ]
  },
  {
   "cell_type": "code",
   "execution_count": 49,
   "metadata": {},
   "outputs": [
    {
     "data": {
      "text/plain": [
       "'all.pass.dl2023.ndcgeval'"
      ]
     },
     "execution_count": 49,
     "metadata": {},
     "output_type": "execute_result"
    }
   ],
   "source": [
    "full_nist_result_file"
   ]
  },
  {
   "cell_type": "code",
   "execution_count": 50,
   "metadata": {},
   "outputs": [
    {
     "data": {
      "text/html": [
       "<div>\n",
       "<style scoped>\n",
       "    .dataframe tbody tr th:only-of-type {\n",
       "        vertical-align: middle;\n",
       "    }\n",
       "\n",
       "    .dataframe tbody tr th {\n",
       "        vertical-align: top;\n",
       "    }\n",
       "\n",
       "    .dataframe thead th {\n",
       "        text-align: right;\n",
       "    }\n",
       "</style>\n",
       "<table border=\"1\" class=\"dataframe\">\n",
       "  <thead>\n",
       "    <tr style=\"text-align: right;\">\n",
       "      <th></th>\n",
       "      <th>run_id</th>\n",
       "      <th>metric</th>\n",
       "      <th>qid</th>\n",
       "      <th>score</th>\n",
       "    </tr>\n",
       "  </thead>\n",
       "  <tbody>\n",
       "    <tr>\n",
       "      <th>0</th>\n",
       "      <td>cip_run_7 Rndcg</td>\n",
       "      <td>2001010</td>\n",
       "      <td>0.6321</td>\n",
       "      <td>NaN</td>\n",
       "    </tr>\n",
       "    <tr>\n",
       "      <th>1</th>\n",
       "      <td>cip_run_7 ndcg_cut_5</td>\n",
       "      <td>2001010</td>\n",
       "      <td>1.0000</td>\n",
       "      <td>NaN</td>\n",
       "    </tr>\n",
       "    <tr>\n",
       "      <th>2</th>\n",
       "      <td>cip_run_7 ndcg_cut_10</td>\n",
       "      <td>2001010</td>\n",
       "      <td>0.8563</td>\n",
       "      <td>NaN</td>\n",
       "    </tr>\n",
       "    <tr>\n",
       "      <th>3</th>\n",
       "      <td>cip_run_7 ndcg_cut_15</td>\n",
       "      <td>2001010</td>\n",
       "      <td>0.8769</td>\n",
       "      <td>NaN</td>\n",
       "    </tr>\n",
       "    <tr>\n",
       "      <th>4</th>\n",
       "      <td>cip_run_7 ndcg_cut_20</td>\n",
       "      <td>2001010</td>\n",
       "      <td>0.9080</td>\n",
       "      <td>NaN</td>\n",
       "    </tr>\n",
       "    <tr>\n",
       "      <th>...</th>\n",
       "      <td>...</td>\n",
       "      <td>...</td>\n",
       "      <td>...</td>\n",
       "      <td>...</td>\n",
       "    </tr>\n",
       "    <tr>\n",
       "      <th>29045</th>\n",
       "      <td>uogtr_b_grf_e_gb ndcg_cut_30</td>\n",
       "      <td>all</td>\n",
       "      <td>0.4809</td>\n",
       "      <td>NaN</td>\n",
       "    </tr>\n",
       "    <tr>\n",
       "      <th>29046</th>\n",
       "      <td>uogtr_b_grf_e_gb ndcg_cut_100</td>\n",
       "      <td>all</td>\n",
       "      <td>0.4386</td>\n",
       "      <td>NaN</td>\n",
       "    </tr>\n",
       "    <tr>\n",
       "      <th>29047</th>\n",
       "      <td>uogtr_b_grf_e_gb ndcg_cut_200</td>\n",
       "      <td>all</td>\n",
       "      <td>0.4117</td>\n",
       "      <td>NaN</td>\n",
       "    </tr>\n",
       "    <tr>\n",
       "      <th>29048</th>\n",
       "      <td>uogtr_b_grf_e_gb ndcg_cut_500</td>\n",
       "      <td>all</td>\n",
       "      <td>0.4081</td>\n",
       "      <td>NaN</td>\n",
       "    </tr>\n",
       "    <tr>\n",
       "      <th>29049</th>\n",
       "      <td>uogtr_b_grf_e_gb ndcg_cut_1000</td>\n",
       "      <td>all</td>\n",
       "      <td>0.4081</td>\n",
       "      <td>NaN</td>\n",
       "    </tr>\n",
       "  </tbody>\n",
       "</table>\n",
       "<p>29050 rows × 4 columns</p>\n",
       "</div>"
      ],
      "text/plain": [
       "                                        run_id   metric     qid  score\n",
       "0             cip_run_7 Rndcg                   2001010  0.6321    NaN\n",
       "1             cip_run_7 ndcg_cut_5              2001010  1.0000    NaN\n",
       "2             cip_run_7 ndcg_cut_10             2001010  0.8563    NaN\n",
       "3             cip_run_7 ndcg_cut_15             2001010  0.8769    NaN\n",
       "4             cip_run_7 ndcg_cut_20             2001010  0.9080    NaN\n",
       "...                                        ...      ...     ...    ...\n",
       "29045  uogtr_b_grf_e_gb ndcg_cut_30                 all  0.4809    NaN\n",
       "29046  uogtr_b_grf_e_gb ndcg_cut_100                all  0.4386    NaN\n",
       "29047  uogtr_b_grf_e_gb ndcg_cut_200                all  0.4117    NaN\n",
       "29048  uogtr_b_grf_e_gb ndcg_cut_500                all  0.4081    NaN\n",
       "29049  uogtr_b_grf_e_gb ndcg_cut_1000               all  0.4081    NaN\n",
       "\n",
       "[29050 rows x 4 columns]"
      ]
     },
     "execution_count": 50,
     "metadata": {},
     "output_type": "execute_result"
    }
   ],
   "source": [
    "nist_labels_result"
   ]
  },
  {
   "cell_type": "code",
   "execution_count": 45,
   "metadata": {},
   "outputs": [
    {
     "data": {
      "text/plain": [
       "{}"
      ]
     },
     "execution_count": 45,
     "metadata": {},
     "output_type": "execute_result"
    }
   ],
   "source": [
    "runid_to_score_track_nist"
   ]
  },
  {
   "cell_type": "markdown",
   "metadata": {},
   "source": [
    "### TREC DL 2023"
   ]
  },
  {
   "cell_type": "code",
   "execution_count": 54,
   "metadata": {},
   "outputs": [],
   "source": [
    "nist_labels_result = pd.read_csv(full_nist_result_file, sep='\\t', header=None, names=['runid_metric', 'qid', 'score'])\n",
    "nist_labels_result['runid_metric'] = nist_labels_result['runid_metric'].str.strip()\n",
    "nist_labels_result[['run_id', 'metric']] = nist_labels_result['runid_metric'].str.split(' ', expand=True)\n",
    "nist_labels_result = nist_labels_result.drop('runid_metric', axis=1)\n",
    "\n",
    "nist_labels_result = nist_labels_result[nist_labels_result['qid'] != 'all']\n",
    "nist_labels_result['qid'] = nist_labels_result['qid'].astype(int)\n",
    "nist_labels_result = nist_labels_result[(nist_labels_result['metric'] == metric)]\n",
    "nist_labels_result['score'] = nist_labels_result['score'].astype('float64')"
   ]
  },
  {
   "cell_type": "code",
   "execution_count": 55,
   "metadata": {},
   "outputs": [
    {
     "data": {
      "text/html": [
       "<div>\n",
       "<style scoped>\n",
       "    .dataframe tbody tr th:only-of-type {\n",
       "        vertical-align: middle;\n",
       "    }\n",
       "\n",
       "    .dataframe tbody tr th {\n",
       "        vertical-align: top;\n",
       "    }\n",
       "\n",
       "    .dataframe thead th {\n",
       "        text-align: right;\n",
       "    }\n",
       "</style>\n",
       "<table border=\"1\" class=\"dataframe\">\n",
       "  <thead>\n",
       "    <tr style=\"text-align: right;\">\n",
       "      <th></th>\n",
       "      <th>qid</th>\n",
       "      <th>score</th>\n",
       "      <th>run_id</th>\n",
       "      <th>metric</th>\n",
       "    </tr>\n",
       "  </thead>\n",
       "  <tbody>\n",
       "    <tr>\n",
       "      <th>2</th>\n",
       "      <td>2001010</td>\n",
       "      <td>0.8563</td>\n",
       "      <td>cip_run_7</td>\n",
       "      <td>ndcg_cut_10</td>\n",
       "    </tr>\n",
       "    <tr>\n",
       "      <th>12</th>\n",
       "      <td>2001459</td>\n",
       "      <td>0.6551</td>\n",
       "      <td>cip_run_7</td>\n",
       "      <td>ndcg_cut_10</td>\n",
       "    </tr>\n",
       "    <tr>\n",
       "      <th>22</th>\n",
       "      <td>2001575</td>\n",
       "      <td>0.3321</td>\n",
       "      <td>cip_run_7</td>\n",
       "      <td>ndcg_cut_10</td>\n",
       "    </tr>\n",
       "    <tr>\n",
       "      <th>32</th>\n",
       "      <td>2002075</td>\n",
       "      <td>0.8087</td>\n",
       "      <td>cip_run_7</td>\n",
       "      <td>ndcg_cut_10</td>\n",
       "    </tr>\n",
       "    <tr>\n",
       "      <th>42</th>\n",
       "      <td>2002168</td>\n",
       "      <td>0.6691</td>\n",
       "      <td>cip_run_7</td>\n",
       "      <td>ndcg_cut_10</td>\n",
       "    </tr>\n",
       "    <tr>\n",
       "      <th>...</th>\n",
       "      <td>...</td>\n",
       "      <td>...</td>\n",
       "      <td>...</td>\n",
       "      <td>...</td>\n",
       "    </tr>\n",
       "    <tr>\n",
       "      <th>28992</th>\n",
       "      <td>3100825</td>\n",
       "      <td>0.5348</td>\n",
       "      <td>uogtr_b_grf_e_gb</td>\n",
       "      <td>ndcg_cut_10</td>\n",
       "    </tr>\n",
       "    <tr>\n",
       "      <th>29002</th>\n",
       "      <td>3100833</td>\n",
       "      <td>0.4907</td>\n",
       "      <td>uogtr_b_grf_e_gb</td>\n",
       "      <td>ndcg_cut_10</td>\n",
       "    </tr>\n",
       "    <tr>\n",
       "      <th>29012</th>\n",
       "      <td>3100909</td>\n",
       "      <td>0.9511</td>\n",
       "      <td>uogtr_b_grf_e_gb</td>\n",
       "      <td>ndcg_cut_10</td>\n",
       "    </tr>\n",
       "    <tr>\n",
       "      <th>29022</th>\n",
       "      <td>3100918</td>\n",
       "      <td>0.6336</td>\n",
       "      <td>uogtr_b_grf_e_gb</td>\n",
       "      <td>ndcg_cut_10</td>\n",
       "    </tr>\n",
       "    <tr>\n",
       "      <th>29032</th>\n",
       "      <td>3100922</td>\n",
       "      <td>0.7062</td>\n",
       "      <td>uogtr_b_grf_e_gb</td>\n",
       "      <td>ndcg_cut_10</td>\n",
       "    </tr>\n",
       "  </tbody>\n",
       "</table>\n",
       "<p>2870 rows × 4 columns</p>\n",
       "</div>"
      ],
      "text/plain": [
       "           qid   score            run_id       metric\n",
       "2      2001010  0.8563         cip_run_7  ndcg_cut_10\n",
       "12     2001459  0.6551         cip_run_7  ndcg_cut_10\n",
       "22     2001575  0.3321         cip_run_7  ndcg_cut_10\n",
       "32     2002075  0.8087         cip_run_7  ndcg_cut_10\n",
       "42     2002168  0.6691         cip_run_7  ndcg_cut_10\n",
       "...        ...     ...               ...          ...\n",
       "28992  3100825  0.5348  uogtr_b_grf_e_gb  ndcg_cut_10\n",
       "29002  3100833  0.4907  uogtr_b_grf_e_gb  ndcg_cut_10\n",
       "29012  3100909  0.9511  uogtr_b_grf_e_gb  ndcg_cut_10\n",
       "29022  3100918  0.6336  uogtr_b_grf_e_gb  ndcg_cut_10\n",
       "29032  3100922  0.7062  uogtr_b_grf_e_gb  ndcg_cut_10\n",
       "\n",
       "[2870 rows x 4 columns]"
      ]
     },
     "execution_count": 55,
     "metadata": {},
     "output_type": "execute_result"
    }
   ],
   "source": [
    "nist_labels_result"
   ]
  },
  {
   "cell_type": "code",
   "execution_count": 56,
   "metadata": {},
   "outputs": [],
   "source": [
    "track_queries_nist_labels = nist_labels_result[(nist_labels_result['metric'] == metric) & (nist_labels_result['qid'].isin(queries_judged))].groupby('run_id')['score'].agg(['mean', 'count']).reset_index()\n",
    "track_queries_nist_labels = track_queries_nist_labels.rename(columns={'mean':metric})\n",
    "runid_to_score_track_nist = dict(zip(track_queries_nist_labels['run_id'], track_queries_nist_labels[metric]))"
   ]
  },
  {
   "cell_type": "code",
   "execution_count": null,
   "metadata": {},
   "outputs": [],
   "source": [
    "# removing the runs that are for reranking task (4 runs for reranking) -> 39 runs will be remain\n",
    "included_runids = metadata_models_df[metadata_models_df['subtask'] == task]['run_id']\n",
    "print(len(set(included_runids)))\n",
    "\n",
    "# We have {'D_bm25_splades', 'D_naverloo-frgpt4', 'D_naverloo_bm25_RR', 'D_naverloo_bm_splade_RR', 'colbertv2'}\n",
    "# runs that have not submitted their results. So, we have 40 run_ids in metadata file in total, the rerank ones (4 runs) \n",
    "# are rmeoved from the list using the above command. Then, 36 runs we have, in whiche 5 submissions are have not submitteed their reuslt\n",
    "# so we will have 31 submissions in total.\n",
    "\n",
    "nist_labels_result = nist_labels_result[nist_labels_result['run_id'].isin(included_runids)]\n",
    "print(len(set(nist_labels_result['run_id'])))\n",
    "\n",
    "nist_labels_result = nist_labels_result[nist_labels_result['qid'] != 'all']\n",
    "nist_labels_result['qid'] = nist_labels_result['qid'].astype(int)\n",
    "nist_labels_result = nist_labels_result[(nist_labels_result['metric'] == metric)]\n",
    "nist_labels_result['score'] = nist_labels_result['score'].astype('float64')"
   ]
  },
  {
   "cell_type": "code",
   "execution_count": null,
   "metadata": {},
   "outputs": [],
   "source": [
    "track_queries_nist_labels = nist_labels_result[(nist_labels_result['metric'] == metric) & (nist_labels_result['qid'].isin(queries_judged))].groupby('run_id')['score'].agg(['mean', 'count']).reset_index()\n",
    "track_queries_nist_labels = track_queries_nist_labels.rename(columns={'mean':metric})\n",
    "runid_to_score_track_nist = dict(zip(track_queries_nist_labels['run_id'], track_queries_nist_labels[metric]))\n",
    "\n",
    "generated_queries_nist_labels = nist_labels_result[(nist_labels_result['metric'] == metric) & ((nist_labels_result['qid'].isin(t5_queries_judged)) | ((nist_labels_result['qid'].isin(gpt4_queries_judged)))) ].groupby('run_id')['score'].agg(['mean', 'count']).reset_index()\n",
    "generated_queries_nist_labels = generated_queries_nist_labels.rename(columns={'mean':metric})\n",
    "runid_to_score_generated_nist = dict(zip(generated_queries_nist_labels['run_id'], generated_queries_nist_labels[metric]))\n",
    "\n",
    "real_queries_nist_labels = nist_labels_result[(nist_labels_result['metric'] == metric) & (nist_labels_result['qid'].isin(real_queries_judged))].groupby('run_id')['score'].agg(['mean', 'count']).reset_index()\n",
    "real_queries_nist_labels = real_queries_nist_labels.rename(columns={'mean':metric})\n",
    "runid_to_score_real_nist = dict(zip(real_queries_nist_labels['run_id'], real_queries_nist_labels[metric]))\n",
    "\n",
    "t5_queries_nist_labels = nist_labels_result[(nist_labels_result['metric'] == metric) & (nist_labels_result['qid'].isin(t5_queries_judged))].groupby('run_id')['score'].agg(['mean', 'count']).reset_index()\n",
    "t5_queries_nist_labels = t5_queries_nist_labels.rename(columns={'mean':metric})\n",
    "runid_to_score_t5_nist = dict(zip(t5_queries_nist_labels['run_id'], t5_queries_nist_labels[metric]))\n",
    "\n",
    "gpt4_queries_nist_labels = nist_labels_result[(nist_labels_result['metric'] == metric) & (nist_labels_result['qid'].isin(gpt4_queries_judged))].groupby('run_id')['score'].agg(['mean', 'count']).reset_index()\n",
    "gpt4_queries_nist_labels = gpt4_queries_nist_labels.rename(columns={'mean':metric})\n",
    "runid_to_score_gpt4_nist = dict(zip(gpt4_queries_nist_labels['run_id'], gpt4_queries_nist_labels[metric]))"
   ]
  },
  {
   "cell_type": "markdown",
   "metadata": {},
   "source": [
    "### Loading runs ndcgecal on Resource qrels "
   ]
  },
  {
   "cell_type": "code",
   "execution_count": 25,
   "metadata": {},
   "outputs": [],
   "source": [
    "gpt4_labels_result = pd.read_csv(full_resource_result_file, sep='\\t', header=None, names=['run_id', 'metric', 'qid', 'score'])\n",
    "gpt4_labels_result.head()\n",
    "\n",
    "gpt4_labels_result = gpt4_labels_result[gpt4_labels_result['qid'] != 'all']\n",
    "gpt4_labels_result['qid'] = gpt4_labels_result['qid'].astype(int)\n",
    "gpt4_labels_result = gpt4_labels_result[(gpt4_labels_result['metric'] == metric)]\n",
    "gpt4_labels_result['score'] = gpt4_labels_result['score'].astype('float64')\n",
    "\n",
    "track_queries_gpt4_labels = gpt4_labels_result[(gpt4_labels_result['metric'] == metric)].groupby('run_id')['score'].agg(['mean', 'count']).reset_index()\n",
    "track_queries_gpt4_labels = track_queries_gpt4_labels.rename(columns={'mean':metric})\n",
    "runid_to_score_track_gpt4 = dict(zip(track_queries_gpt4_labels['run_id'], track_queries_gpt4_labels[metric]))"
   ]
  },
  {
   "cell_type": "markdown",
   "metadata": {},
   "source": [
    "### Loading Configs"
   ]
  },
  {
   "cell_type": "code",
   "execution_count": 26,
   "metadata": {},
   "outputs": [],
   "source": [
    "# loading the metadata and assigning LLM tag based on the pipeline of each run\n",
    "run_to_model = {}\n",
    "# red: gpt, yellow: t5, orange: gpt+t5, and blue: everything else\n",
    "for eachline in metadata_models_df.itertuples(index=True):\n",
    "    # if we have both T5 and GPT version in the pipeline\n",
    "    if 'T5' in eachline.LLM and 'GPT' in eachline.LLM:\n",
    "        run_to_model[eachline.run_id] = 'GPT+T5'\n",
    "    elif 'GPT' in eachline.LLM:\n",
    "        run_to_model[eachline.run_id] = 'GPT'\n",
    "    elif 'T5' in eachline.LLM:\n",
    "        run_to_model[eachline.run_id] = 'T5'\n",
    "    else:\n",
    "        run_to_model[eachline.run_id] = 'Others'"
   ]
  },
  {
   "cell_type": "code",
   "execution_count": 27,
   "metadata": {},
   "outputs": [],
   "source": [
    "def get_merged_df(dict_1, dict_2):\n",
    "\n",
    "    # Convert dictionaries to DataFrames\n",
    "    df1 = pd.DataFrame(list(dict_1.items()), columns=['Key', 'Value1'])\n",
    "    df2 = pd.DataFrame(list(dict_2.items()), columns=['Key', 'Value2'])\n",
    "\n",
    "    # Merge the DataFrames based on the 'Key' column\n",
    "    merged_df = pd.merge(df1, df2, on='Key', how='outer')\n",
    "\n",
    "    return merged_df"
   ]
  },
  {
   "cell_type": "code",
   "execution_count": 28,
   "metadata": {},
   "outputs": [],
   "source": [
    "model_to_color = {'GPT': 'red', 'T5': 'brown', 'GPT+T5': 'orange', 'Others': 'green'}\n",
    "model_to_marker = {'GPT': 'x', 'T5': '|', 'GPT+T5': '+', 'Others': '.'}"
   ]
  },
  {
   "cell_type": "markdown",
   "metadata": {},
   "source": [
    "## 3. Generating Plots for Various Types of Analysis"
   ]
  },
  {
   "cell_type": "code",
   "execution_count": 61,
   "metadata": {},
   "outputs": [],
   "source": [
    "def get_plot(x_avg_scores, y_avg_scores, query_types=['track', 'real'], label_types=['NIST', 'NIST']):\n",
    "\n",
    "    # splitting query types\n",
    "    query_type_x = query_types[0]\n",
    "    query_type_y = query_types[1]\n",
    "\n",
    "    # splitting query types\n",
    "    label_type_x = label_types[0]\n",
    "    label_type_y = label_types[1]\n",
    "\n",
    "    # if label_type_x == 'Sparse':\n",
    "    #     metric_type_x = f\"NDCG@{cut_off}\"\n",
    "    # else:\n",
    "    #     metric_type_x = f\"NDCG@{cut_off}\"\n",
    "\n",
    "    # if label_type_y == 'Sparse':\n",
    "    #     metric_type_y = f\"NDCG@{cut_off}\"\n",
    "    # else:\n",
    "    #     metric_type_y = f\"NDCG@{cut_off}\"\n",
    "\n",
    "    merged_df = get_merged_df(x_avg_scores, y_avg_scores)\n",
    "\n",
    "    for eachline in merged_df.itertuples(index=True):\n",
    "        run_model = run_to_model[eachline.Key]\n",
    "        model_color = model_to_color[run_model]\n",
    "        model_marker = model_to_marker[run_model]\n",
    "        plt.scatter(eachline.Value1, eachline.Value2, c=f\"{model_color}\", marker=f\"{model_marker}\", label=f\"{run_model}\", s=70)\n",
    "\n",
    "    if label_type_x != 'Sparse' and label_type_y != 'Sparse':\n",
    "        # axes\n",
    "        ax = plt.gca()\n",
    "        lims = [\n",
    "            np.min([ax.get_xlim(), ax.get_ylim()]),  # min of both axes\n",
    "            np.max([ax.get_xlim(), ax.get_ylim()]),  # max of both axes\n",
    "            ]\n",
    "        \n",
    "        # now plot both limits against eachother\n",
    "        ax.plot(lims, lims, color='blue', linestyle='dashed', linewidth=0.7)\n",
    "    \n",
    "    tau, p_value = stats.kendalltau(merged_df['Value1'], merged_df['Value2'])\n",
    "\n",
    "    #adding tau inside the plot \n",
    "    plt.annotate(r'Kendall $\\tau$ = %s' %np.round(tau, 4), xy=(0.03, 0.61), xycoords='axes fraction', fontsize=14)\n",
    "    \n",
    "    # plt.xlabel(f'{metric_type_x} on {query_type_x} queries ({label_type_x} Qrel)', fontsize=10)\n",
    "    # plt.ylabel(f'{metric_type_y} on {query_type_y} queries ({label_type_y} Qrel)', fontsize=10)\n",
    "\n",
    "    # plt.xlabel(f'{plot_metric} ({query_type_x}, {label_type_x} Judgments)', fontsize=13)\n",
    "    # plt.ylabel(f'{plot_metric} ({query_type_y}, {label_type_y} Judgments)', fontsize=13)\n",
    "\n",
    "    plt.xlabel(f'{plot_metric} ({query_type_x})', fontsize=16)\n",
    "    plt.ylabel(f'{plot_metric} ({query_type_y})', fontsize=16)\n",
    "\n",
    "    handles, labels = plt.gca().get_legend_handles_labels()\n",
    "    by_label = dict(zip(labels, handles))\n",
    "    plt.legend(by_label.values(), by_label.keys(), edgecolor='black', fontsize=13)\n",
    "\n",
    "    plt.xticks(fontsize=13)\n",
    "    plt.yticks(fontsize=13)\n",
    "\n",
    "    # plt.show()\n",
    "\n",
    "    plt.savefig(f\"figs/{dl_year}/{dl_year}_{plot_metric}_colored.pdf\", bbox_inches='tight')"
   ]
  },
  {
   "cell_type": "code",
   "execution_count": 30,
   "metadata": {},
   "outputs": [],
   "source": [
    "def get_plot_simple(x_avg_scores, y_avg_scores, query_types=['track', 'real'], label_types=['NIST', 'NIST']):\n",
    "\n",
    "    # splitting query types\n",
    "    query_type_x = query_types[0]\n",
    "    query_type_y = query_types[1]\n",
    "\n",
    "    # splitting query types\n",
    "    label_type_x = label_types[0]\n",
    "    label_type_y = label_types[1]\n",
    "\n",
    "    merged_df = get_merged_df(x_avg_scores, y_avg_scores)\n",
    "\n",
    "    for eachline in merged_df.itertuples(index=True):\n",
    "        plt.scatter(eachline.Value1, eachline.Value2, c='black')\n",
    "\n",
    "    ax = plt.gca()\n",
    "    lims = [\n",
    "        np.min([ax.get_xlim(), ax.get_ylim()]),  # min of both axes\n",
    "        np.max([ax.get_xlim(), ax.get_ylim()]),  # max of both axes\n",
    "        ]\n",
    "        \n",
    "    # now plot both limits against eachother\n",
    "    ax.plot(lims, lims, color='black', linestyle='dashed', linewidth=0.7)\n",
    "    \n",
    "    tau, p_value = stats.kendalltau(merged_df['Value1'], merged_df['Value2'])\n",
    "\n",
    "    #adding tau inside the plot \n",
    "    plt.annotate(r'Kendall $\\tau$ = %s' %np.round(tau, 4), xy=(0.03, 0.7), xycoords='axes fraction', fontsize=16)\n",
    "\n",
    "    plt.xlabel(f'{plot_metric} ({query_type_x})', fontsize=16)\n",
    "    plt.ylabel(f'{plot_metric} ({query_type_y})', fontsize=16)\n",
    "\n",
    "    plt.xticks(fontsize=13)\n",
    "    plt.yticks(fontsize=13)\n",
    "\n",
    "    plt.show()\n",
    "\n",
    "    # plt.savefig(f\"figs/{dl_year}/{dl_year}_{plot_metric}.pdf\", bbox_inches='tight')"
   ]
  },
  {
   "cell_type": "code",
   "execution_count": 31,
   "metadata": {},
   "outputs": [
    {
     "data": {
      "text/plain": [
       "'dl2023'"
      ]
     },
     "execution_count": 31,
     "metadata": {},
     "output_type": "execute_result"
    }
   ],
   "source": [
    "dl_year"
   ]
  },
  {
   "cell_type": "markdown",
   "metadata": {},
   "source": [
    "### 3.1 Generating Query Analysis Plots (Synthetic Query Analysis -- NIST Qrels)"
   ]
  },
  {
   "cell_type": "code",
   "execution_count": null,
   "metadata": {},
   "outputs": [],
   "source": [
    "# track-full-nist vs. track-sample-nist\n",
    "get_plot_simple(runid_to_score_track_nist, runid_to_score_track_gpt4, query_types=['DL-20', 'DL-LLM'], label_types=['Human', 'GPT-4'])"
   ]
  },
  {
   "cell_type": "code",
   "execution_count": 36,
   "metadata": {},
   "outputs": [
    {
     "data": {
      "text/plain": [
       "{'WatS-Augmented-BM25': 0.5065996763754045,\n",
       " 'WatS-LLM-Rerank': 0.6531334951456311,\n",
       " 'agg-cocondenser': 0.6947640776699029,\n",
       " 'bm25_splades': 0.7374799352750809,\n",
       " 'cip_run_1': 0.8671033980582524,\n",
       " 'cip_run_2': 0.8671084142394823,\n",
       " 'cip_run_3': 0.8419244336569579,\n",
       " 'cip_run_4': 0.8322297734627832,\n",
       " 'cip_run_5': 0.8344017799352751,\n",
       " 'cip_run_6': 0.8269459546925566,\n",
       " 'cip_run_7': 0.8352076051779936,\n",
       " 'naverloo-frgpt4': 0.9006967637540453,\n",
       " 'naverloo-rgpt4': 0.906021359223301,\n",
       " 'naverloo_bm25_RR': 0.7944656957928803,\n",
       " 'naverloo_bm25_splades_RR': 0.8337873786407768,\n",
       " 'naverloo_fs': 0.7513868932038835,\n",
       " 'naverloo_fs_RR': 0.8335588996763754,\n",
       " 'naverloo_fs_RR_duo': 0.8848582524271844,\n",
       " 'slim-pp-0shot-uw': 0.6974257281553398,\n",
       " 'splade_pp_ensemble_distil': 0.7315275080906148,\n",
       " 'splade_pp_self_distil': 0.7389996763754045,\n",
       " 'uogtr_b_grf_e': 0.749215210355987,\n",
       " 'uogtr_b_grf_e_gb': 0.7670847896440129,\n",
       " 'uogtr_be': 0.7556422330097087,\n",
       " 'uogtr_be_gb': 0.7659852750809061,\n",
       " 'uogtr_dph': 0.5278325242718446,\n",
       " 'uogtr_dph_bo1': 0.4535522653721683,\n",
       " 'uogtr_qr_be': 0.7598360841423949,\n",
       " 'uogtr_qr_be_gb': 0.7686186084142395,\n",
       " 'uogtr_s': 0.7258126213592233,\n",
       " 'uogtr_se': 0.7757122977346278,\n",
       " 'uogtr_se_gb': 0.7772011326860842,\n",
       " 'uot-yahoo_LLMs-blender': 0.5342281553398058,\n",
       " 'uot-yahoo_rankgpt35': 0.6147419093851133,\n",
       " 'uot-yahoo_rankgpt4': 0.6699970873786407}"
      ]
     },
     "execution_count": 36,
     "metadata": {},
     "output_type": "execute_result"
    }
   ],
   "source": [
    "runid_to_score_track_gpt4"
   ]
  },
  {
   "cell_type": "code",
   "execution_count": 62,
   "metadata": {},
   "outputs": [
    {
     "data": {
      "image/png": "[encoded data removed]",
      "text/plain": [
       "<Figure size 640x480 with 1 Axes>"
      ]
     },
     "metadata": {},
     "output_type": "display_data"
    }
   ],
   "source": [
    "get_plot(runid_to_score_track_nist, runid_to_score_track_gpt4, query_types=['DL-23', 'DL-LLM'], label_types=['Human', 'GPT-4'])"
   ]
  },
  {
   "cell_type": "markdown",
   "metadata": {},
   "source": [
    "### Generating Scatter Plots for Sparse Qrels"
   ]
  },
  {
   "cell_type": "code",
   "execution_count": null,
   "metadata": {},
   "outputs": [],
   "source": [
    "run_df_list = []\n",
    "for infile in glob.glob(sparse_result_file):\n",
    "    run_df = pd.read_csv(infile, sep='\\t', header=None, names=['metric', 'qid', 'score'])\n",
    "    run_id_name = os.path.basename(infile).split('.')[0]\n",
    "    run_df['run_id'] = run_id_name\n",
    "    run_df = run_df[run_df['qid'] != 'all']\n",
    "    run_df['score'] = run_df['score'].astype(float)\n",
    "    run_df['qid'] = run_df['qid'].astype(int)\n",
    "    run_df['metric'] = run_df['metric'].apply(lambda x: x.rstrip())\n",
    "    run_df_list.append(run_df)\n",
    " \n",
    "sparse_labels_ndcgeval = pd.concat(run_df_list)\n",
    "sparse_labels_ndcgeval"
   ]
  },
  {
   "cell_type": "code",
   "execution_count": null,
   "metadata": {},
   "outputs": [],
   "source": [
    "sparse_labels_ndcgeval = sparse_labels_ndcgeval[sparse_labels_ndcgeval['run_id'].isin(included_runids)]\n",
    "print(len(set(sparse_labels_ndcgeval['run_id'])))"
   ]
  },
  {
   "cell_type": "code",
   "execution_count": null,
   "metadata": {},
   "outputs": [],
   "source": [
    "len(sparse_labels_ndcgeval['qid'].unique())"
   ]
  },
  {
   "cell_type": "code",
   "execution_count": null,
   "metadata": {},
   "outputs": [],
   "source": [
    "my_metric = metric # 'recip_rank'"
   ]
  },
  {
   "cell_type": "code",
   "execution_count": null,
   "metadata": {},
   "outputs": [],
   "source": [
    "print(\"All synthetic (generated) queries\")\n",
    "metric_df = sparse_labels_ndcgeval[sparse_labels_ndcgeval['metric'] == my_metric].groupby('run_id')['score'].agg(['mean', 'count']).reset_index()\n",
    "metric_df = metric_df.rename(columns={'mean': my_metric})\n",
    "metric_df.sort_values(my_metric, ascending=False)\n",
    "runid_to_score_generated_sparse = dict(zip(metric_df.run_id, metric_df[my_metric]))"
   ]
  },
  {
   "cell_type": "code",
   "execution_count": null,
   "metadata": {},
   "outputs": [],
   "source": [
    "sparse_labels_ndcgeval"
   ]
  },
  {
   "cell_type": "code",
   "execution_count": null,
   "metadata": {},
   "outputs": [],
   "source": [
    "print(\"T5 kept by NIST when judging:\")\n",
    "metric_df = sparse_labels_ndcgeval[(sparse_labels_ndcgeval['metric'] == my_metric) & (sparse_labels_ndcgeval['qid'].isin(t5_queries_judged))].groupby('run_id')['score'].agg(['mean', 'count']).reset_index()\n",
    "metric_df = metric_df.rename(columns={'mean':my_metric})\n",
    "metric_df.sort_values(my_metric, ascending=False)\n",
    "runid_to_score_t5nist_sparse = dict(zip(metric_df.run_id, metric_df[my_metric]))"
   ]
  },
  {
   "cell_type": "code",
   "execution_count": null,
   "metadata": {},
   "outputs": [],
   "source": [
    "print(\"GPT-4 kept by NIST when judging:\")\n",
    "metric_df = sparse_labels_ndcgeval[(sparse_labels_ndcgeval['metric'] == my_metric) & (sparse_labels_ndcgeval['qid'].isin(gpt4_queries_judged))].groupby('run_id')['score'].agg(['mean', 'count']).reset_index()\n",
    "metric_df = metric_df.rename(columns={'mean':my_metric})\n",
    "metric_df.sort_values(my_metric, ascending=False)\n",
    "runid_to_score_gpt4nist_sparse = dict(zip(metric_df.run_id, metric_df[my_metric]))"
   ]
  },
  {
   "cell_type": "code",
   "execution_count": null,
   "metadata": {},
   "outputs": [],
   "source": [
    "print(\"Generated kept by NIST when judging:\")\n",
    "metric_df = sparse_labels_ndcgeval[(sparse_labels_ndcgeval['metric'] == my_metric) & ((sparse_labels_ndcgeval['qid'].isin(gpt4_queries_judged)) | (sparse_labels_ndcgeval['qid'].isin(t5_queries_judged)))].groupby('run_id')['score'].agg(['mean', 'count']).reset_index()\n",
    "metric_df = metric_df.rename(columns={'mean': my_metric})\n",
    "metric_df.sort_values(my_metric, ascending=False)\n",
    "runid_to_score_gpt4Xt5nist_sparse = dict(zip(metric_df.run_id, metric_df[my_metric]))"
   ]
  },
  {
   "cell_type": "code",
   "execution_count": null,
   "metadata": {},
   "outputs": [],
   "source": [
    "print('All T5 queries')\n",
    "metric_df = sparse_labels_ndcgeval[(sparse_labels_ndcgeval['metric'] == my_metric) & (sparse_labels_ndcgeval['qid'] < 3100000)].groupby('run_id')['score'].agg(['mean', 'count']).reset_index()\n",
    "metric_df = metric_df.rename(columns={'mean':my_metric})\n",
    "metric_df.sort_values(my_metric, ascending=False)\n",
    "runid_to_score_t5_sparse = dict(zip(metric_df.run_id, metric_df[my_metric]))"
   ]
  },
  {
   "cell_type": "code",
   "execution_count": null,
   "metadata": {},
   "outputs": [],
   "source": [
    "print('All GPT-4 queries')\n",
    "metric_df = sparse_labels_ndcgeval[(sparse_labels_ndcgeval['metric'] == my_metric) & (sparse_labels_ndcgeval['qid'] >= 3100000)].groupby('run_id')['score'].agg(['mean', 'count']).reset_index()\n",
    "metric_df = metric_df.rename(columns={'mean':my_metric})\n",
    "metric_df.sort_values(my_metric, ascending=False)\n",
    "runid_to_score_gpt4_sparse = dict(zip(metric_df.run_id, metric_df[my_metric]))"
   ]
  },
  {
   "cell_type": "markdown",
   "metadata": {},
   "source": [
    "### NDCG@10"
   ]
  },
  {
   "cell_type": "code",
   "execution_count": null,
   "metadata": {},
   "outputs": [],
   "source": [
    "# t5-nist vs. all_t5-sparse\n",
    "# get_plot(runid_to_score_real_nist, runid_to_score_gpt4Xt5nist_sparse, query_types=['Real', 'GeneratedxNIST'], label_types=['NIST', 'Sparse'])"
   ]
  },
  {
   "cell_type": "code",
   "execution_count": null,
   "metadata": {},
   "outputs": [],
   "source": [
    "# t5-nist vs. all_t5-sparse\n",
    "# get_plot(runid_to_score_t5_nist, runid_to_score_t5_sparse, query_types=['T5', 'T5'], label_types=['NIST', 'Sparse'])"
   ]
  },
  {
   "cell_type": "code",
   "execution_count": null,
   "metadata": {},
   "outputs": [],
   "source": [
    "# gpt4-nist vs. all_gpt4-sparse\n",
    "# get_plot(runid_to_score_gpt4_nist, runid_to_score_gpt4_sparse, query_types=['GPT-4', 'GPT-4'], label_types=['NIST', 'Sparse'])"
   ]
  },
  {
   "cell_type": "code",
   "execution_count": null,
   "metadata": {},
   "outputs": [],
   "source": [
    "# real-nist vs. generated-sparse\n",
    "get_plot_simple(runid_to_score_real_nist, runid_to_score_generated_sparse, query_types=['Real', 'Synthetic'], label_types=['Human', 'Sparse'])"
   ]
  },
  {
   "cell_type": "code",
   "execution_count": null,
   "metadata": {},
   "outputs": [],
   "source": [
    "# real-nist vs. judged-generated-sparse\n",
    "# get_plot_simple(runid_to_score_real_nist, runid_to_score_gpt4Xt5nist_sparse, query_types=['Real', 'JudgedSynthetic'], label_types=['Human', 'Sparse'])"
   ]
  },
  {
   "cell_type": "code",
   "execution_count": null,
   "metadata": {},
   "outputs": [],
   "source": [
    "# generated-nist vs. generated-sparse\n",
    "# get_plot(runid_to_score_generated_nist, runid_to_score_generated_sparse, query_types=['Generated', 'Generated'], label_types=['NIST', 'Sparse'])"
   ]
  },
  {
   "cell_type": "code",
   "execution_count": null,
   "metadata": {},
   "outputs": [],
   "source": [
    "# t5-nist vs. t5nist-sparse\n",
    "# get_plot(runid_to_score_t5_nist, runid_to_score_t5nist_sparse, query_types=['T5', 'T5 Judged by NIST'], label_types=['NIST', 'Sparse'])"
   ]
  },
  {
   "cell_type": "code",
   "execution_count": null,
   "metadata": {},
   "outputs": [],
   "source": [
    "# gpt4-nist vs. gpt4nist-sparse\n",
    "# get_plot(runid_to_score_gpt4_nist, runid_to_score_gpt4nist_sparse, query_types=['GPT-4', 'GPT-4 Judged by NIST'], label_types=['NIST', 'Sparse'])"
   ]
  },
  {
   "cell_type": "markdown",
   "metadata": {},
   "source": [
    "### Runs Overall Results"
   ]
  },
  {
   "cell_type": "code",
   "execution_count": null,
   "metadata": {},
   "outputs": [],
   "source": [
    "dl2023_full_qrel_results = pd.read_csv(\"all.pass.dl23.resource-gpt4.treceval\", sep='\\t', header=None, names=['run_id', 'metric', 'qid', 'score'])\n",
    "dl2023_full_qrel_results.head()"
   ]
  },
  {
   "cell_type": "code",
   "execution_count": null,
   "metadata": {},
   "outputs": [],
   "source": [
    "dl2023_full_qrel_results = dl2023_full_qrel_results[dl2023_full_qrel_results[\"qid\"]==\"all\"]"
   ]
  },
  {
   "cell_type": "code",
   "execution_count": null,
   "metadata": {},
   "outputs": [],
   "source": [
    "dl2023_full_qrel_results[dl2023_full_qrel_results[\"metric\"] == \"map\"].sort_values(\"score\")"
   ]
  },
  {
   "cell_type": "code",
   "execution_count": null,
   "metadata": {},
   "outputs": [],
   "source": []
  }
 ],
 "metadata": {
  "kernelspec": {
   "display_name": "Python 3",
   "language": "python",
   "name": "python3"
  },
  "language_info": {
   "codemirror_mode": {
    "name": "ipython",
    "version": 3
   },
   "file_extension": ".py",
   "mimetype": "text/x-python",
   "name": "python",
   "nbconvert_exporter": "python",
   "pygments_lexer": "ipython3",
   "version": "3.9.6"
  }
 },
 "nbformat": 4,
 "nbformat_minor": 2
}
